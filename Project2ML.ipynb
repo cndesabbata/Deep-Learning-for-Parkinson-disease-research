{
 "cells": [
  {
   "cell_type": "markdown",
   "source": "## Second Approach: Machine Learning\nDifferent models of classic machine learning are employed.",
   "metadata": {
    "cell_id": "00000-eba7b3eb-ec45-40d6-84ce-5106648a9269",
    "tags": [],
    "deepnote_cell_type": "markdown"
   }
  },
  {
   "cell_type": "markdown",
   "source": "#### Import of libraries and dataset",
   "metadata": {
    "cell_id": "00001-40dca528-d0f0-4835-9000-3f7a18629fef",
    "tags": [],
    "deepnote_cell_type": "markdown"
   }
  },
  {
   "cell_type": "code",
   "metadata": {
    "cell_id": "00007-b9cfc18f-95fb-43ae-a352-1b0467720b35",
    "deepnote_to_be_reexecuted": false,
    "execution_millis": 1978,
    "execution_start": 1640117910474,
    "source_hash": "41539dc6",
    "deepnote_cell_type": "code"
   },
   "source": "# import all libraries\nimport numpy as np\nimport pandas as pd\nimport re\n\nimport sklearn\nfrom sklearn.model_selection import train_test_split\nfrom sklearn.preprocessing import MinMaxScaler\nfrom sklearn.preprocessing import PolynomialFeatures\nfrom sklearn.preprocessing import scale\nfrom sklearn.feature_selection import RFE\nfrom sklearn.linear_model import LinearRegression, Ridge\nfrom sklearn.model_selection import cross_val_score\nfrom sklearn.model_selection import KFold\nfrom sklearn.model_selection import GridSearchCV\nfrom sklearn.pipeline import make_pipeline",
   "outputs": [],
   "execution_count": null
  },
  {
   "cell_type": "code",
   "metadata": {
    "cell_id": "00003-7cf8548a-f675-4dd5-992d-0480a008f542",
    "deepnote_to_be_reexecuted": false,
    "execution_millis": 2276,
    "execution_start": 1640117916155,
    "source_hash": "614f9d94",
    "tags": [],
    "deepnote_cell_type": "code"
   },
   "source": "from helpers import sample_data, load_data\n\n# load data.\ndata_oligo_1 = np.delete(load_data(\"data-oligo/011021_SFL_SYN211_Oligo_1uM_Rawdata_270spectralcolumns.csv\"), 0, 1).T\ndata_oligo_1 = data_oligo_1[data_oligo_1[:, 0] != -999, :]\ndata_oligo_2 = np.delete(load_data(\"data-oligo/051021_SFL_SYN211_Oligo_5uM_rawdata_270spectralcolumns.csv\"), 0, 1).T\ndata_oligo_2 = data_oligo_2[data_oligo_2[:, 0] != -999, :]\n\ndata_oligo = np.append(data_oligo_1, data_oligo_2, axis = 0)\n\ny_oligo = np.expand_dims(np.zeros(len(data_oligo)), axis=1)\n\ndata_PFF1 = np.delete(load_data(\"data-pff/191121_G80_AInII_SYn211_AsynPFF_5microM_rawdata_290spectracolumns.csv\"), 0, 1).T\ndata_PFF1 = data_PFF1[data_PFF1[:, 0] != -999, :]\ndata_PFF2 = np.delete(load_data(\"data-pff/220421_G80_AInII_SYn211_AsynPFF_20microM_880_spectralcolumns.csv\"), 0, 1).T\ndata_PFF2 = data_PFF2[data_PFF2[:, 0] != -999, :]\n\ndata_PFF =  np.append(data_PFF1, data_PFF2, axis = 0)\n\ny_PFF = np.expand_dims(np.ones(len(data_PFF)), axis=1)\n\nmix_50_50 = np.delete(load_data(\"data-mix/1221_G80_AI_SYn211_2uMPFF50__2uMOligo50__rawdata_840spectralcolumns.csv\"), 0, 1).T\nmix_50_50 = mix_50_50[mix_50_50[:, 0] != -999, :]\n\ny_50_50 = np.expand_dims(np.ones(len(data_PFF))*.5, axis=1)\n\nmix_75_25 = np.delete(load_data(\"data-mix/1221_G80_AI_SYn211_4.5uMPFF75__1.5uMOligo25__Rawdata_710spectralcolumns.csv\"), 0, 1).T\nmix_75_25 = mix_75_25[mix_75_25[:, 0] != -999, :]\n\ny_75_25 = np.expand_dims(np.ones(len(mix_75_25))*.75, axis=1)\n\nmix_25_75 = np.delete(load_data(\"data-mix/1221_G80_AI_SYn211_4.5uMOligo75%_1.5uMPFF25%_Rawdata_730spectralcolumns.csv\"), 0, 1).T\nmix_25_75 = mix_25_75[mix_25_75[:, 0] != -999, :]\n\ny_25_75 = np.expand_dims(np.ones(len(mix_25_75))*.25, axis=1)\n\nprint(data_oligo.shape, data_PFF.shape, mix_50_50.shape, mix_75_25.shape, mix_25_75.shape)\n",
   "outputs": [
    {
     "name": "stdout",
     "output_type": "stream",
     "text": "(540, 133) (1170, 133) (840, 133) (710, 133) (730, 133)\n"
    }
   ],
   "execution_count": null
  },
  {
   "cell_type": "code",
   "metadata": {
    "cell_id": "00004-7395e6ba-446d-4864-8a43-e4f8bf4f60a5",
    "deepnote_to_be_reexecuted": false,
    "execution_millis": 10,
    "execution_start": 1640117918439,
    "source_hash": "e8c58c35",
    "tags": [],
    "deepnote_cell_type": "code"
   },
   "source": "#Build X and y by concatenating the different dataset (after sampling the same number of datapoints for each dataset)\nnp.random.seed()\nX = np.concatenate((data_oligo, data_PFF[np.random.randint(data_PFF.shape[0], size=540),:],mix_50_50[np.random.randint(mix_50_50.shape[0], size=540),:], mix_75_25[np.random.randint(mix_75_25.shape[0], size=540),:]), axis = 0)\ny = np.concatenate((y_oligo, y_PFF[np.random.randint(y_PFF.shape[0], size=540),:],y_50_50[np.random.randint(y_50_50.shape[0], size=540),:], y_75_25[np.random.randint(y_75_25.shape[0], size=540),:]), axis = 0)\nX_train_, y_train_ = X, y\nx_test_, y_test_ = mix_25_75, y_25_75",
   "outputs": [],
   "execution_count": null
  },
  {
   "cell_type": "markdown",
   "source": "### Linear regression\nModel trained on 0-100, 50-50, 75-25, 100-0 and tested on 25-75. Negative mean absolute error during 5-fold cross validation.",
   "metadata": {
    "cell_id": "00015-043c44a0-7daa-45dd-8efd-51cf5061442e",
    "tags": [],
    "deepnote_cell_type": "markdown"
   }
  },
  {
   "cell_type": "code",
   "metadata": {
    "cell_id": "00009-e8574fed-4218-4cc4-8e15-23e05ed7b449",
    "deepnote_output_heights": [
     21.1875
    ],
    "deepnote_to_be_reexecuted": false,
    "execution_millis": 491,
    "execution_start": 1639501047803,
    "source_hash": "dce3eba9",
    "deepnote_cell_type": "code"
   },
   "source": "# linear regression\nlm = LinearRegression()\nscores = cross_val_score(lm, X_train_, y_train_, scoring='neg_mean_absolute_error', cv=5)\nfor i in range (5):\n    print(f\"Negative mean absolute error: {scores[i]:.4f}. iteration: {i}\")",
   "outputs": [
    {
     "name": "stdout",
     "output_type": "stream",
     "text": "Negative mean absolute error: -0.6506. iteration: 0\nNegative mean absolute error: -0.1755. iteration: 1\nNegative mean absolute error: -0.1257. iteration: 2\nNegative mean absolute error: -0.0910. iteration: 3\nNegative mean absolute error: -0.1012. iteration: 4\n"
    }
   ],
   "execution_count": null
  },
  {
   "cell_type": "code",
   "metadata": {
    "cell_id": "00015-97b590c8-f10f-430a-b425-88b5b6a4b4e3",
    "deepnote_output_heights": [
     21.1875
    ],
    "deepnote_to_be_reexecuted": false,
    "execution_millis": 112,
    "execution_start": 1639501048312,
    "source_hash": "11425088",
    "tags": [],
    "deepnote_cell_type": "code"
   },
   "source": "lm.fit(X_train_, y_train_)\npreds = lm.predict(x_test_)\nprint(f\"Mean absolute error: {sklearn.metrics.mean_absolute_error(y_test_, preds):.4f}\")",
   "outputs": [
    {
     "name": "stdout",
     "output_type": "stream",
     "text": "Mean absolute error: 0.1300\n"
    }
   ],
   "execution_count": null
  },
  {
   "cell_type": "markdown",
   "source": "### Ridge Regression\nModel trained on 0-100, 50-50, 75-25, 100-0 and tested on 25-75. Negative mean squared error and mean absolute error during 5-fold cross validation.\n",
   "metadata": {
    "cell_id": "00018-531a816f-4928-41a8-979b-c294f9b33ec2",
    "tags": [],
    "deepnote_cell_type": "markdown"
   }
  },
  {
   "cell_type": "code",
   "metadata": {
    "cell_id": "00013-6ec85d8f-3cb0-495a-baeb-eef607cc3f54",
    "deepnote_output_heights": [
     40.390625
    ],
    "deepnote_to_be_reexecuted": false,
    "execution_millis": 128,
    "execution_start": 1639501048446,
    "source_hash": "2e1f7960",
    "tags": [],
    "deepnote_cell_type": "code"
   },
   "source": "clf = Ridge(alpha=0.01)\nscores = cross_val_score(clf, X_train_, y_train_, scoring='neg_mean_absolute_error', cv=5)\nfor i in range (5):\n    print(f\"Negative mean absolute error: {scores[i]:.4f}. iteration: {i}\")",
   "outputs": [
    {
     "name": "stdout",
     "output_type": "stream",
     "text": "Negative mean absolute error: -0.6582. iteration: 0\nNegative mean absolute error: -0.1794. iteration: 1\nNegative mean absolute error: -0.1254. iteration: 2\nNegative mean absolute error: -0.0892. iteration: 3\nNegative mean absolute error: -0.0951. iteration: 4\n"
    }
   ],
   "execution_count": null
  },
  {
   "cell_type": "code",
   "metadata": {
    "cell_id": "00018-7fa5e88d-4d24-4e53-bd0e-239901f76d80",
    "deepnote_output_heights": [
     21.1875
    ],
    "deepnote_to_be_reexecuted": false,
    "execution_millis": 1,
    "execution_start": 1639501048641,
    "source_hash": "cbba45e5",
    "tags": [],
    "deepnote_cell_type": "code"
   },
   "source": "clf.fit(X_train_, y_train_)\npreds = clf.predict(x_test_)\nprint(f\"Mean absolute error: {sklearn.metrics.mean_absolute_error(y_test_, preds):.4f}\")",
   "outputs": [
    {
     "name": "stdout",
     "output_type": "stream",
     "text": "Mean absolute error: 0.1173\n"
    }
   ],
   "execution_count": null
  },
  {
   "cell_type": "markdown",
   "source": "Cross validation for Ridge Regression to optimize alpha",
   "metadata": {
    "cell_id": "00010-2b6d3e57-cf70-4186-bd6d-1196f160c1f5",
    "tags": [],
    "deepnote_cell_type": "markdown"
   }
  },
  {
   "cell_type": "code",
   "metadata": {
    "cell_id": "00019-6a91afae-2120-476e-a61f-beac2a1cc295",
    "deepnote_output_heights": [
     null,
     117.1875
    ],
    "deepnote_to_be_reexecuted": false,
    "execution_millis": 959,
    "execution_start": 1639501048688,
    "source_hash": "e8a7a056",
    "tags": [],
    "deepnote_cell_type": "code"
   },
   "source": "# step-1: create a cross-validation scheme\nfolds = KFold(n_splits = 5, shuffle = True, random_state = 100)\n\n# step-2: specify range of hyperparameters to tune\nhyper_params = [{'alpha': [10**k for k in range(-4, 4)]}]\n\n\n# step-3: perform grid search\n# 3.1 specify model\nlm = Ridge()\nlm.fit(X_train_, y_train_)\n\n# 3.2 call GridSearchCV()\nmodel_cv = GridSearchCV(estimator = lm, \n                        param_grid = hyper_params, \n                        scoring= 'neg_mean_absolute_error', \n                        cv = folds, \n                        verbose = 1,\n                        return_train_score=True)      \n\n# fit the model\nmodel_cv.fit(X_train_, y_train_)",
   "outputs": [
    {
     "name": "stdout",
     "output_type": "stream",
     "text": "Fitting 5 folds for each of 8 candidates, totalling 40 fits\n"
    },
    {
     "data": {
      "text/plain": "GridSearchCV(cv=KFold(n_splits=5, random_state=100, shuffle=True),\n             estimator=Ridge(),\n             param_grid=[{'alpha': [0.0001, 0.001, 0.01, 0.1, 1, 10, 100,\n                                    1000]}],\n             return_train_score=True, scoring='neg_mean_absolute_error',\n             verbose=1)"
     },
     "execution_count": 8,
     "metadata": {},
     "output_type": "execute_result"
    }
   ],
   "execution_count": null
  },
  {
   "cell_type": "code",
   "metadata": {
    "cell_id": "00020-1b0419ea-efae-4cbc-a560-bea54201dbbc",
    "deepnote_to_be_reexecuted": false,
    "execution_millis": 192,
    "execution_start": 1639501049651,
    "source_hash": "305722b3",
    "tags": [],
    "deepnote_output_heights": [
     295.1875
    ],
    "deepnote_cell_type": "code"
   },
   "source": "cv_results = pd.DataFrame(model_cv.cv_results_)\ncv_results",
   "outputs": [
    {
     "data": {
      "text/html": "<div>\n<style scoped>\n    .dataframe tbody tr th:only-of-type {\n        vertical-align: middle;\n    }\n\n    .dataframe tbody tr th {\n        vertical-align: top;\n    }\n\n    .dataframe thead th {\n        text-align: right;\n    }\n</style>\n<table border=\"1\" class=\"dataframe\">\n  <thead>\n    <tr style=\"text-align: right;\">\n      <th></th>\n      <th>mean_fit_time</th>\n      <th>std_fit_time</th>\n      <th>mean_score_time</th>\n      <th>std_score_time</th>\n      <th>param_alpha</th>\n      <th>params</th>\n      <th>split0_test_score</th>\n      <th>split1_test_score</th>\n      <th>split2_test_score</th>\n      <th>split3_test_score</th>\n      <th>...</th>\n      <th>mean_test_score</th>\n      <th>std_test_score</th>\n      <th>rank_test_score</th>\n      <th>split0_train_score</th>\n      <th>split1_train_score</th>\n      <th>split2_train_score</th>\n      <th>split3_train_score</th>\n      <th>split4_train_score</th>\n      <th>mean_train_score</th>\n      <th>std_train_score</th>\n    </tr>\n  </thead>\n  <tbody>\n    <tr>\n      <th>0</th>\n      <td>0.002246</td>\n      <td>0.000231</td>\n      <td>0.000275</td>\n      <td>0.000134</td>\n      <td>0.0001</td>\n      <td>{'alpha': 0.0001}</td>\n      <td>-0.111003</td>\n      <td>-0.122452</td>\n      <td>-0.121395</td>\n      <td>-0.122896</td>\n      <td>...</td>\n      <td>-0.119830</td>\n      <td>0.004452</td>\n      <td>3</td>\n      <td>-0.113699</td>\n      <td>-0.111056</td>\n      <td>-0.110518</td>\n      <td>-0.111548</td>\n      <td>-0.111806</td>\n      <td>-0.111725</td>\n      <td>0.001081</td>\n    </tr>\n    <tr>\n      <th>1</th>\n      <td>0.002595</td>\n      <td>0.000605</td>\n      <td>0.000384</td>\n      <td>0.000171</td>\n      <td>0.001</td>\n      <td>{'alpha': 0.001}</td>\n      <td>-0.110767</td>\n      <td>-0.122563</td>\n      <td>-0.121154</td>\n      <td>-0.122526</td>\n      <td>...</td>\n      <td>-0.119541</td>\n      <td>0.004449</td>\n      <td>1</td>\n      <td>-0.113555</td>\n      <td>-0.111003</td>\n      <td>-0.110340</td>\n      <td>-0.111355</td>\n      <td>-0.111789</td>\n      <td>-0.111608</td>\n      <td>0.001083</td>\n    </tr>\n    <tr>\n      <th>2</th>\n      <td>0.002313</td>\n      <td>0.000243</td>\n      <td>0.000303</td>\n      <td>0.000166</td>\n      <td>0.01</td>\n      <td>{'alpha': 0.01}</td>\n      <td>-0.111064</td>\n      <td>-0.124571</td>\n      <td>-0.121153</td>\n      <td>-0.121783</td>\n      <td>...</td>\n      <td>-0.119573</td>\n      <td>0.004579</td>\n      <td>2</td>\n      <td>-0.114446</td>\n      <td>-0.111984</td>\n      <td>-0.111152</td>\n      <td>-0.111833</td>\n      <td>-0.112735</td>\n      <td>-0.112430</td>\n      <td>0.001126</td>\n    </tr>\n    <tr>\n      <th>3</th>\n      <td>0.002043</td>\n      <td>0.000159</td>\n      <td>0.000163</td>\n      <td>0.000003</td>\n      <td>0.1</td>\n      <td>{'alpha': 0.1}</td>\n      <td>-0.114745</td>\n      <td>-0.129796</td>\n      <td>-0.125247</td>\n      <td>-0.124417</td>\n      <td>...</td>\n      <td>-0.123379</td>\n      <td>0.004915</td>\n      <td>4</td>\n      <td>-0.118952</td>\n      <td>-0.116679</td>\n      <td>-0.116218</td>\n      <td>-0.116785</td>\n      <td>-0.117801</td>\n      <td>-0.117287</td>\n      <td>0.000980</td>\n    </tr>\n    <tr>\n      <th>4</th>\n      <td>0.002139</td>\n      <td>0.000191</td>\n      <td>0.000380</td>\n      <td>0.000165</td>\n      <td>1</td>\n      <td>{'alpha': 1}</td>\n      <td>-0.119184</td>\n      <td>-0.134629</td>\n      <td>-0.130404</td>\n      <td>-0.129212</td>\n      <td>...</td>\n      <td>-0.127875</td>\n      <td>0.005158</td>\n      <td>5</td>\n      <td>-0.124835</td>\n      <td>-0.121536</td>\n      <td>-0.121571</td>\n      <td>-0.122620</td>\n      <td>-0.123082</td>\n      <td>-0.122728</td>\n      <td>0.001211</td>\n    </tr>\n    <tr>\n      <th>5</th>\n      <td>0.002173</td>\n      <td>0.000398</td>\n      <td>0.000235</td>\n      <td>0.000144</td>\n      <td>10</td>\n      <td>{'alpha': 10}</td>\n      <td>-0.124598</td>\n      <td>-0.140900</td>\n      <td>-0.132033</td>\n      <td>-0.131484</td>\n      <td>...</td>\n      <td>-0.131453</td>\n      <td>0.005419</td>\n      <td>6</td>\n      <td>-0.130372</td>\n      <td>-0.126498</td>\n      <td>-0.127337</td>\n      <td>-0.128700</td>\n      <td>-0.128249</td>\n      <td>-0.128231</td>\n      <td>0.001312</td>\n    </tr>\n    <tr>\n      <th>6</th>\n      <td>0.002018</td>\n      <td>0.000153</td>\n      <td>0.000229</td>\n      <td>0.000137</td>\n      <td>100</td>\n      <td>{'alpha': 100}</td>\n      <td>-0.132355</td>\n      <td>-0.149426</td>\n      <td>-0.138092</td>\n      <td>-0.137388</td>\n      <td>...</td>\n      <td>-0.138266</td>\n      <td>0.005965</td>\n      <td>7</td>\n      <td>-0.139024</td>\n      <td>-0.134681</td>\n      <td>-0.136030</td>\n      <td>-0.138204</td>\n      <td>-0.137494</td>\n      <td>-0.137087</td>\n      <td>0.001554</td>\n    </tr>\n    <tr>\n      <th>7</th>\n      <td>0.001962</td>\n      <td>0.000118</td>\n      <td>0.000167</td>\n      <td>0.000009</td>\n      <td>1000</td>\n      <td>{'alpha': 1000}</td>\n      <td>-0.154758</td>\n      <td>-0.169480</td>\n      <td>-0.159477</td>\n      <td>-0.158845</td>\n      <td>...</td>\n      <td>-0.159768</td>\n      <td>0.005149</td>\n      <td>8</td>\n      <td>-0.160802</td>\n      <td>-0.157151</td>\n      <td>-0.157421</td>\n      <td>-0.160326</td>\n      <td>-0.160843</td>\n      <td>-0.159309</td>\n      <td>0.001664</td>\n    </tr>\n  </tbody>\n</table>\n<p>8 rows × 21 columns</p>\n</div>",
      "text/plain": "   mean_fit_time  std_fit_time  mean_score_time  std_score_time param_alpha  \\\n0       0.002246      0.000231         0.000275        0.000134      0.0001   \n1       0.002595      0.000605         0.000384        0.000171       0.001   \n2       0.002313      0.000243         0.000303        0.000166        0.01   \n3       0.002043      0.000159         0.000163        0.000003         0.1   \n4       0.002139      0.000191         0.000380        0.000165           1   \n5       0.002173      0.000398         0.000235        0.000144          10   \n6       0.002018      0.000153         0.000229        0.000137         100   \n7       0.001962      0.000118         0.000167        0.000009        1000   \n\n              params  split0_test_score  split1_test_score  split2_test_score  \\\n0  {'alpha': 0.0001}          -0.111003          -0.122452          -0.121395   \n1   {'alpha': 0.001}          -0.110767          -0.122563          -0.121154   \n2    {'alpha': 0.01}          -0.111064          -0.124571          -0.121153   \n3     {'alpha': 0.1}          -0.114745          -0.129796          -0.125247   \n4       {'alpha': 1}          -0.119184          -0.134629          -0.130404   \n5      {'alpha': 10}          -0.124598          -0.140900          -0.132033   \n6     {'alpha': 100}          -0.132355          -0.149426          -0.138092   \n7    {'alpha': 1000}          -0.154758          -0.169480          -0.159477   \n\n   split3_test_score  ...  mean_test_score  std_test_score  rank_test_score  \\\n0          -0.122896  ...        -0.119830        0.004452                3   \n1          -0.122526  ...        -0.119541        0.004449                1   \n2          -0.121783  ...        -0.119573        0.004579                2   \n3          -0.124417  ...        -0.123379        0.004915                4   \n4          -0.129212  ...        -0.127875        0.005158                5   \n5          -0.131484  ...        -0.131453        0.005419                6   \n6          -0.137388  ...        -0.138266        0.005965                7   \n7          -0.158845  ...        -0.159768        0.005149                8   \n\n   split0_train_score  split1_train_score  split2_train_score  \\\n0           -0.113699           -0.111056           -0.110518   \n1           -0.113555           -0.111003           -0.110340   \n2           -0.114446           -0.111984           -0.111152   \n3           -0.118952           -0.116679           -0.116218   \n4           -0.124835           -0.121536           -0.121571   \n5           -0.130372           -0.126498           -0.127337   \n6           -0.139024           -0.134681           -0.136030   \n7           -0.160802           -0.157151           -0.157421   \n\n   split3_train_score  split4_train_score  mean_train_score  std_train_score  \n0           -0.111548           -0.111806         -0.111725         0.001081  \n1           -0.111355           -0.111789         -0.111608         0.001083  \n2           -0.111833           -0.112735         -0.112430         0.001126  \n3           -0.116785           -0.117801         -0.117287         0.000980  \n4           -0.122620           -0.123082         -0.122728         0.001211  \n5           -0.128700           -0.128249         -0.128231         0.001312  \n6           -0.138204           -0.137494         -0.137087         0.001554  \n7           -0.160326           -0.160843         -0.159309         0.001664  \n\n[8 rows x 21 columns]"
     },
     "execution_count": 9,
     "metadata": {},
     "output_type": "execute_result"
    }
   ],
   "execution_count": null
  },
  {
   "cell_type": "markdown",
   "source": "### Extremely randomized trees\nModel trained on 0-100, 50-50, 75-25, 100-0 and tested on 25-75.\n",
   "metadata": {
    "cell_id": "00023-253778b1-b658-44a4-bfd6-4f0f4de06d4d",
    "tags": [],
    "deepnote_cell_type": "markdown"
   }
  },
  {
   "cell_type": "code",
   "metadata": {
    "cell_id": "00026-85637d1b-a886-4df8-8325-fd5933a626a6",
    "deepnote_output_heights": [
     21.1875
    ],
    "deepnote_to_be_reexecuted": false,
    "execution_millis": 4256,
    "execution_start": 1640117927265,
    "source_hash": "83be88da",
    "tags": [],
    "deepnote_cell_type": "code"
   },
   "source": "from sklearn.ensemble import ExtraTreesRegressor\n# extremely randomized trees model with default parameters\nreg = ExtraTreesRegressor(n_estimators=100, random_state=0).fit(X_train_, y_train_.ravel())\npreds = reg.predict(x_test_)\nprint(f\"Mean absolute error: {sklearn.metrics.mean_absolute_error(y_test_, preds):.4f}\")",
   "outputs": [
    {
     "name": "stdout",
     "output_type": "stream",
     "text": "Mean absolute error: 0.2847\n"
    }
   ],
   "execution_count": null
  },
  {
   "cell_type": "code",
   "metadata": {
    "cell_id": "00027-12f04fbe-f76c-4f86-8570-5c9d4eccb541",
    "deepnote_to_be_reexecuted": false,
    "execution_millis": 430790,
    "execution_start": 1640118551265,
    "source_hash": "b3e510e",
    "tags": [],
    "deepnote_cell_type": "code"
   },
   "source": "import optuna\n\ndef objective(trial):\n    # parameters to optimize\n    a = trial.suggest_categorical(\"model_params/etr/n_estimators\", [100, 150, 200, 300, 400, 500])\n    b = trial.suggest_loguniform(\"model_params/etr/max_depth\", 2, 32)\n    c = trial.suggest_categorical(\"model_params/etr/min_samples_split\", [4, 8, 16])\n    d = trial.suggest_categorical(\"model_params/etr/max_features\", ['auto', 0.2, 0.4, 0.6, 0.8])\n    e = trial.suggest_categorical(\"model_params/etr/min_samples_leaf\", [1, 2, 3, 4])\n\n    reg = ExtraTreesRegressor(n_estimators=a, max_depth=b, min_samples_split=c, max_features=d, min_samples_leaf=e, random_state=430)\n    return cross_val_score(reg, X_train_, y_train_.ravel(), cv=5, scoring='neg_mean_absolute_error').mean()\n\nstudy = optuna.create_study(direction='maximize')\n# run param optimization with optuna\nstudy.optimize(objective, n_trials=20)",
   "outputs": [
    {
     "name": "stderr",
     "output_type": "stream",
     "text": "\u001b[32m[I 2021-12-22 18:57:46,422]\u001b[0m A new study created in memory with name: no-name-ed47b21a-9e80-404a-8996-2d5271fdd6b6\u001b[0m\n\u001b[32m[I 2021-12-22 18:57:46,952]\u001b[0m Trial 0 finished with value: -0.34508797150964343 and parameters: {'model_params/etr/n_estimators': 100, 'model_params/etr/max_depth': 2.078048183830405, 'model_params/etr/min_samples_split': 16, 'model_params/etr/max_features': 0.4, 'model_params/etr/min_samples_leaf': 4}. Best is trial 0 with value: -0.34508797150964343.\u001b[0m\n\u001b[32m[I 2021-12-22 18:57:52,748]\u001b[0m Trial 1 finished with value: -0.19179055484803767 and parameters: {'model_params/etr/n_estimators': 500, 'model_params/etr/max_depth': 5.11563846401465, 'model_params/etr/min_samples_split': 4, 'model_params/etr/max_features': 0.6, 'model_params/etr/min_samples_leaf': 1}. Best is trial 1 with value: -0.19179055484803767.\u001b[0m\n\u001b[32m[I 2021-12-22 18:57:57,502]\u001b[0m Trial 2 finished with value: -0.18773357085809833 and parameters: {'model_params/etr/n_estimators': 500, 'model_params/etr/max_depth': 6.192688180611657, 'model_params/etr/min_samples_split': 4, 'model_params/etr/max_features': 0.4, 'model_params/etr/min_samples_leaf': 3}. Best is trial 2 with value: -0.18773357085809833.\u001b[0m\n\u001b[32m[I 2021-12-22 18:58:00,598]\u001b[0m Trial 3 finished with value: -0.18552471596883718 and parameters: {'model_params/etr/n_estimators': 300, 'model_params/etr/max_depth': 7.725822595584744, 'model_params/etr/min_samples_split': 16, 'model_params/etr/max_features': 0.4, 'model_params/etr/min_samples_leaf': 4}. Best is trial 3 with value: -0.18552471596883718.\u001b[0m\n\u001b[32m[I 2021-12-22 18:58:06,123]\u001b[0m Trial 4 finished with value: -0.18159532214506172 and parameters: {'model_params/etr/n_estimators': 200, 'model_params/etr/max_depth': 23.882504327512393, 'model_params/etr/min_samples_split': 8, 'model_params/etr/max_features': 'auto', 'model_params/etr/min_samples_leaf': 3}. Best is trial 4 with value: -0.18159532214506172.\u001b[0m\n\u001b[32m[I 2021-12-22 18:58:14,864]\u001b[0m Trial 5 finished with value: -0.19203662702054827 and parameters: {'model_params/etr/n_estimators': 500, 'model_params/etr/max_depth': 5.089730206701351, 'model_params/etr/min_samples_split': 16, 'model_params/etr/max_features': 'auto', 'model_params/etr/min_samples_leaf': 4}. Best is trial 4 with value: -0.18159532214506172.\u001b[0m\n\u001b[32m[I 2021-12-22 18:58:17,614]\u001b[0m Trial 6 finished with value: -0.1838125899764543 and parameters: {'model_params/etr/n_estimators': 150, 'model_params/etr/max_depth': 8.102537606385535, 'model_params/etr/min_samples_split': 16, 'model_params/etr/max_features': 0.8, 'model_params/etr/min_samples_leaf': 4}. Best is trial 4 with value: -0.18159532214506172.\u001b[0m\n\u001b[32m[I 2021-12-22 18:58:19,120]\u001b[0m Trial 7 finished with value: -0.3427772094142417 and parameters: {'model_params/etr/n_estimators': 200, 'model_params/etr/max_depth': 2.4546313776121074, 'model_params/etr/min_samples_split': 8, 'model_params/etr/max_features': 0.8, 'model_params/etr/min_samples_leaf': 4}. Best is trial 4 with value: -0.18159532214506172.\u001b[0m\n\u001b[32m[I 2021-12-22 18:58:22,053]\u001b[0m Trial 8 finished with value: -0.17796180555555555 and parameters: {'model_params/etr/n_estimators': 100, 'model_params/etr/max_depth': 23.980772962392088, 'model_params/etr/min_samples_split': 4, 'model_params/etr/max_features': 'auto', 'model_params/etr/min_samples_leaf': 1}. Best is trial 8 with value: -0.17796180555555555.\u001b[0m\n\u001b[32m[I 2021-12-22 18:58:24,251]\u001b[0m Trial 9 finished with value: -0.19029999301407124 and parameters: {'model_params/etr/n_estimators': 150, 'model_params/etr/max_depth': 5.461860050334894, 'model_params/etr/min_samples_split': 4, 'model_params/etr/max_features': 0.8, 'model_params/etr/min_samples_leaf': 1}. Best is trial 8 with value: -0.17796180555555555.\u001b[0m\n\u001b[32m[I 2021-12-22 18:58:27,575]\u001b[0m Trial 10 finished with value: -0.1806941454475309 and parameters: {'model_params/etr/n_estimators': 400, 'model_params/etr/max_depth': 31.637278113830742, 'model_params/etr/min_samples_split': 4, 'model_params/etr/max_features': 0.2, 'model_params/etr/min_samples_leaf': 2}. Best is trial 8 with value: -0.17796180555555555.\u001b[0m\n\u001b[32m[I 2021-12-22 18:58:30,832]\u001b[0m Trial 11 finished with value: -0.1806941454475309 and parameters: {'model_params/etr/n_estimators': 400, 'model_params/etr/max_depth': 31.060194305165027, 'model_params/etr/min_samples_split': 4, 'model_params/etr/max_features': 0.2, 'model_params/etr/min_samples_leaf': 2}. Best is trial 8 with value: -0.17796180555555555.\u001b[0m\n\u001b[32m[I 2021-12-22 18:58:34,096]\u001b[0m Trial 12 finished with value: -0.18058917669618518 and parameters: {'model_params/etr/n_estimators': 400, 'model_params/etr/max_depth': 16.992262728988162, 'model_params/etr/min_samples_split': 4, 'model_params/etr/max_features': 0.2, 'model_params/etr/min_samples_leaf': 2}. Best is trial 8 with value: -0.17796180555555555.\u001b[0m\n\u001b[32m[I 2021-12-22 18:58:34,920]\u001b[0m Trial 13 finished with value: -0.17951240724438694 and parameters: {'model_params/etr/n_estimators': 100, 'model_params/etr/max_depth': 16.16704438285929, 'model_params/etr/min_samples_split': 4, 'model_params/etr/max_features': 0.2, 'model_params/etr/min_samples_leaf': 2}. Best is trial 8 with value: -0.17796180555555555.\u001b[0m\n\u001b[32m[I 2021-12-22 18:58:37,748]\u001b[0m Trial 14 finished with value: -0.17763082776907416 and parameters: {'model_params/etr/n_estimators': 100, 'model_params/etr/max_depth': 14.497815665411249, 'model_params/etr/min_samples_split': 4, 'model_params/etr/max_features': 'auto', 'model_params/etr/min_samples_leaf': 1}. Best is trial 14 with value: -0.17763082776907416.\u001b[0m\n\u001b[32m[I 2021-12-22 18:58:40,532]\u001b[0m Trial 15 finished with value: -0.17770792591068044 and parameters: {'model_params/etr/n_estimators': 100, 'model_params/etr/max_depth': 13.267519911128609, 'model_params/etr/min_samples_split': 4, 'model_params/etr/max_features': 'auto', 'model_params/etr/min_samples_leaf': 1}. Best is trial 14 with value: -0.17763082776907416.\u001b[0m\n\u001b[32m[I 2021-12-22 18:58:43,212]\u001b[0m Trial 16 finished with value: -0.1779037970133873 and parameters: {'model_params/etr/n_estimators': 100, 'model_params/etr/max_depth': 12.558828998560749, 'model_params/etr/min_samples_split': 8, 'model_params/etr/max_features': 'auto', 'model_params/etr/min_samples_leaf': 1}. Best is trial 14 with value: -0.17763082776907416.\u001b[0m\n\u001b[32m[I 2021-12-22 18:58:45,929]\u001b[0m Trial 17 finished with value: -0.17682780786275648 and parameters: {'model_params/etr/n_estimators': 100, 'model_params/etr/max_depth': 11.542957550249003, 'model_params/etr/min_samples_split': 4, 'model_params/etr/max_features': 'auto', 'model_params/etr/min_samples_leaf': 1}. Best is trial 17 with value: -0.17682780786275648.\u001b[0m\n\u001b[32m[I 2021-12-22 18:58:47,636]\u001b[0m Trial 18 finished with value: -0.17745406426514618 and parameters: {'model_params/etr/n_estimators': 100, 'model_params/etr/max_depth': 10.040870135950575, 'model_params/etr/min_samples_split': 4, 'model_params/etr/max_features': 0.6, 'model_params/etr/min_samples_leaf': 1}. Best is trial 17 with value: -0.17682780786275648.\u001b[0m\n\u001b[32m[I 2021-12-22 18:58:52,470]\u001b[0m Trial 19 finished with value: -0.17830288491914192 and parameters: {'model_params/etr/n_estimators': 300, 'model_params/etr/max_depth': 9.73569111516355, 'model_params/etr/min_samples_split': 8, 'model_params/etr/max_features': 0.6, 'model_params/etr/min_samples_leaf': 1}. Best is trial 17 with value: -0.17682780786275648.\u001b[0m\n"
    }
   ],
   "execution_count": null
  },
  {
   "cell_type": "code",
   "metadata": {
    "cell_id": "00018-1a48b323-92aa-46b4-a31e-5aba5a5970bb",
    "deepnote_to_be_reexecuted": false,
    "execution_millis": 40879,
    "execution_start": 1640119174745,
    "source_hash": "bf77daa2",
    "tags": [],
    "deepnote_cell_type": "code"
   },
   "source": "reg = ExtraTreesRegressor(n_estimators=100, max_depth=20, min_samples_split=4, max_features=0.8, min_samples_leaf=2, random_state=0).fit(X_train_, y_train_.ravel())\npreds = reg.predict(x_test_)\nprint(f\"Mean absolute error: {sklearn.metrics.mean_absolute_error(y_test_, preds):.4f}\")\n",
   "outputs": [
    {
     "name": "stdout",
     "output_type": "stream",
     "text": "Mean absolute error: 0.2747\n"
    }
   ],
   "execution_count": null
  },
  {
   "cell_type": "code",
   "metadata": {
    "cell_id": "00018-c1fad2d9-8304-47b4-a96a-9c9a41d20ba8",
    "tags": [],
    "deepnote_cell_type": "code"
   },
   "source": "",
   "execution_count": null,
   "outputs": []
  },
  {
   "cell_type": "markdown",
   "source": "<a style='text-decoration:none;line-height:16px;display:flex;color:#5B5B62;padding:10px;justify-content:end;' href='https://deepnote.com?utm_source=created-in-deepnote-cell&projectId=d66177de-7ea1-46c8-aea6-26d701dd9bc9' target=\"_blank\">\n<img alt='Created in deepnote.com' style='display:inline;max-height:16px;margin:0px;margin-right:7.5px;' src='data:image/svg+xml;base64,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' > </img>\nCreated in <span style='font-weight:600;margin-left:4px;'>Deepnote</span></a>",
   "metadata": {
    "tags": [],
    "created_in_deepnote_cell": true,
    "deepnote_cell_type": "markdown"
   }
  }
 ],
 "nbformat": 4,
 "nbformat_minor": 2,
 "metadata": {
  "deepnote": {},
  "deepnote_execution_queue": [],
  "deepnote_notebook_id": "4d85f1db-0630-45f4-95de-5476d20179b9",
  "kernelspec": {
   "display_name": "Python 3",
   "language": "python",
   "name": "python3"
  },
  "language_info": {
   "codemirror_mode": {
    "name": "ipython",
    "version": 3
   },
   "file_extension": ".py",
   "mimetype": "text/x-python",
   "name": "python",
   "nbconvert_exporter": "python",
   "pygments_lexer": "ipython3",
   "version": "3.8.8"
  }
 }
}