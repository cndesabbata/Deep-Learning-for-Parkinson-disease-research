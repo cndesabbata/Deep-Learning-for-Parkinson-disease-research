{
 "cells": [
  {
   "cell_type": "markdown",
   "source": "## First approach: Neural Network\nThe MLP Regressor model of sklearn library is employed.",
   "metadata": {
    "cell_id": "00000-650b5144-e9f4-434f-a3f8-ce9e3d0c6362",
    "tags": [],
    "deepnote_cell_type": "markdown"
   }
  },
  {
   "cell_type": "markdown",
   "source": "#### Importing libraries and datasets",
   "metadata": {
    "cell_id": "00001-895dbb69-6fc2-4f76-af8e-7f9d864adba0",
    "deepnote_cell_type": "markdown"
   }
  },
  {
   "cell_type": "code",
   "metadata": {
    "cell_id": "00002-40472d7f-f5ab-4303-bb46-1e8cc7b730a3",
    "deepnote_to_be_reexecuted": false,
    "execution_millis": 4499,
    "execution_start": 1640255865545,
    "source_hash": "d7c5d5b8",
    "deepnote_cell_type": "code"
   },
   "source": "# Useful starting lines\n%matplotlib inline\nimport numpy as np\nimport matplotlib.pyplot as plt\n#The usual collection of indispensables \nimport numpy as np\nimport matplotlib.pyplot as plt\nimport datetime\nfrom tqdm import tqdm\nimport scipy.fftpack\nfrom sklearn.neural_network import MLPRegressor\nfrom sklearn.metrics import mean_squared_error,r2_score, mean_absolute_error, explained_variance_score, max_error\nfrom sklearn.model_selection import cross_val_score, train_test_split",
   "outputs": [],
   "execution_count": null
  },
  {
   "cell_type": "code",
   "metadata": {
    "cell_id": "00003-e712f30e-b002-4b8b-b601-737e01339fff",
    "deepnote_to_be_reexecuted": false,
    "execution_millis": 2175,
    "execution_start": 1640255870070,
    "source_hash": "3315bfb8",
    "deepnote_cell_type": "code"
   },
   "source": "from helpers import sample_data, load_data\n\n# load data.\ndata_oligo_1 = np.delete(load_data(\"data-oligo/011021_SFL_SYN211_Oligo_1uM_Rawdata_270spectralcolumns.csv\"), 0, 1).T\ndata_oligo_1 = data_oligo_1[data_oligo_1[:, 0] != -999, :]\ndata_oligo_2 = np.delete(load_data(\"data-oligo/051021_SFL_SYN211_Oligo_5uM_rawdata_270spectralcolumns.csv\"), 0, 1).T\ndata_oligo_2 = data_oligo_2[data_oligo_2[:, 0] != -999, :]\n\ndata_oligo = np.append(data_oligo_1, data_oligo_2, axis = 0)\n\ny_oligo = np.expand_dims(np.zeros(len(data_oligo)), axis=1)\n\ndata_PFF1 = np.delete(load_data(\"data-pff/191121_G80_AInII_SYn211_AsynPFF_5microM_rawdata_290spectracolumns.csv\"), 0, 1).T\ndata_PFF1 = data_PFF1[data_PFF1[:, 0] != -999, :]\ndata_PFF2 = np.delete(load_data(\"data-pff/220421_G80_AInII_SYn211_AsynPFF_20microM_880_spectralcolumns.csv\"), 0, 1).T\ndata_PFF2 = data_PFF2[data_PFF2[:, 0] != -999, :]\n\ndata_PFF =  np.append(data_PFF1, data_PFF2, axis = 0)\n\ny_PFF = np.expand_dims(np.ones(len(data_PFF)), axis=1)\n\nmix_50_50 = np.delete(load_data(\"data-mix/1221_G80_AI_SYn211_2uMPFF50__2uMOligo50__rawdata_840spectralcolumns.csv\"), 0, 1).T\nmix_50_50 = mix_50_50[mix_50_50[:, 0] != -999, :]\n\ny_50_50 = np.expand_dims(np.ones(len(data_PFF))*.5, axis=1)\n\nmix_75_25 = np.delete(load_data(\"data-mix/1221_G80_AI_SYn211_4.5uMPFF75__1.5uMOligo25__Rawdata_710spectralcolumns.csv\"), 0, 1).T\nmix_75_25 = mix_75_25[mix_75_25[:, 0] != -999, :]\n\ny_75_25 = np.expand_dims(np.ones(len(mix_75_25))*.75, axis=1)\n\nmix_25_75 = np.delete(load_data(\"data-mix/1221_G80_AI_SYn211_4.5uMOligo75%_1.5uMPFF25%_Rawdata_730spectralcolumns.csv\"), 0, 1).T\nmix_25_75 = mix_25_75[mix_25_75[:, 0] != -999, :]\n\ny_25_75 = np.expand_dims(np.ones(len(mix_25_75))*.25, axis=1)\n\nmix_60_40 = np.delete(load_data(\"data-mix/1221_G80_AI_SYn211_2.4uMOligo40%_3.6uMPFF60%_Rawdata_410spectralcolumns.csv\"), 0, 1).T\nmix_60_40 = mix_60_40[mix_60_40[:, 0] != -999, :]\ny_60_40 = np.expand_dims(np.ones(len(mix_60_40))*0.6, axis=1)\n\nmix_40_60 = np.delete(load_data(\"data-mix/1221_G80_AI_SYn211_2.4uMOligo60%_1.6uMPFF40%_Rawdata_350spectralcolumns.csv\"), 0, 1).T\nmix_40_60 = mix_40_60[mix_40_60[:, 0] != -999, :]\ny_40_60 = np.expand_dims(np.ones(len(mix_40_60))*0.4, axis=1)\n\n\nprint(data_oligo.shape, data_PFF.shape, mix_50_50.shape, mix_75_25.shape, mix_25_75.shape, mix_40_60.shape, mix_60_40.shape)\n",
   "outputs": [
    {
     "name": "stdout",
     "text": "(540, 133) (1170, 133) (840, 133) (710, 133) (730, 133) (350, 133) (410, 133)\n",
     "output_type": "stream",
     "data": {}
    }
   ],
   "execution_count": null
  },
  {
   "cell_type": "markdown",
   "source": "#### Show improvement in regression when adding data\nFirst, we'll train the model, on 0-100, 100-0 and test on dataset of 40-60 and 60-40.",
   "metadata": {
    "cell_id": "00004-73985c7b-a55a-4702-ab7d-6535eea799c5",
    "deepnote_cell_type": "markdown"
   }
  },
  {
   "cell_type": "code",
   "metadata": {
    "cell_id": "00005-96276213-ac4b-472a-ae6c-e1efba3e8a7d",
    "deepnote_to_be_reexecuted": false,
    "execution_millis": 47,
    "execution_start": 1640255872039,
    "source_hash": "71654d15",
    "deepnote_cell_type": "code"
   },
   "source": "#Build X and y by concatenating the different dataset (after sampling the same number of datapoints for each dataset) \nnp.random.seed()\nX = np.concatenate((data_oligo[np.random.randint(data_oligo.shape[0], size = 350), :], data_PFF[np.random.randint(data_PFF.shape[0], size=350),:]), axis = 0)\ny = np.concatenate((y_oligo[np.random.randint(y_oligo.shape[0], size = 350), :], y_PFF[np.random.randint(y_PFF.shape[0], size=350),:]), axis = 0)\n\nX_test = np.concatenate((mix_40_60[np.random.randint(mix_40_60.shape[0], size=350),:],mix_60_40[np.random.randint(mix_60_40.shape[0], size=350),:]), axis = 0)\ny_test = np.concatenate((y_40_60[np.random.randint(y_40_60.shape[0], size=350),:],y_60_40[np.random.randint(y_60_40.shape[0], size=350),:]), axis = 0)\nindices = [np.random.choice(700, 200) for i in range(100)]\n\nx_test, y_test = [X_test[idx] for idx in indices], [y_test[idx] for idx in indices]\nX_train, _, y_train, _ = train_test_split( X, y, random_state=42)",
   "outputs": [],
   "execution_count": null
  },
  {
   "cell_type": "code",
   "metadata": {
    "cell_id": "00006-60eb02fd-7d7b-41ce-b3c5-863e5b0cbb95",
    "deepnote_to_be_reexecuted": false,
    "source_hash": "e0a30529",
    "execution_start": 1640255872092,
    "execution_millis": 18,
    "deepnote_cell_type": "code"
   },
   "source": "def calculate_predictions_scores(model, x_test, y_test):\n    predictions = []\n    mses = []\n    maes = []\n    mxs = []\n    for i in range(len(x_test)):\n        predictions.append(model.predict(x_test[i]))\n        mses.append(mean_squared_error(y_test[i], predictions[i]))\n        maes.append(mean_absolute_error(y_test[i], predictions[i]))\n        mxs.append(max_error(y_test[i], predictions[i]))\n    return np.array(mses), np.array(maes), np.array(mxs)",
   "outputs": [],
   "execution_count": null
  },
  {
   "cell_type": "code",
   "metadata": {
    "cell_id": "00006-fa11a9cc-589a-4ca8-a5a3-ff93c4f3a6f5",
    "deepnote_to_be_reexecuted": false,
    "execution_millis": 2834,
    "execution_start": 1640255872119,
    "source_hash": "fe211850",
    "deepnote_cell_type": "code"
   },
   "source": "# Training the neural network\nmodel = MLPRegressor(solver='adam', activation='logistic', alpha=1e-5, hidden_layer_sizes=(10,10,10,10), random_state=1)\nmodel.fit(X_train, y_train.squeeze())\n\n# Predicting the 50-50 mix\nmses, maes, mxs = calculate_predictions_scores(model, x_test, y_test)\nprint(f\"Mean squared error: {mses.mean():.4f}\\nMean absolute error: {maes.mean():.4f}\\nMax Error: {mxs.mean():.4f}\")",
   "outputs": [
    {
     "name": "stdout",
     "text": "Mean squared error: 0.1791\nMean absolute error: 0.4019\nMax Error: 0.6084\n",
     "output_type": "stream",
     "data": {}
    }
   ],
   "execution_count": null
  },
  {
   "cell_type": "markdown",
   "source": "Now we add 50-50 to the train set and repeat the testing on the 40-60 / 60-40 dataset.",
   "metadata": {
    "cell_id": "00007-8f850b2f-210e-4189-b9a4-4f68d1a75f3c",
    "deepnote_cell_type": "markdown"
   }
  },
  {
   "cell_type": "code",
   "metadata": {
    "cell_id": "00008-99363cf0-5b83-467f-bee2-4f98b3516fb2",
    "deepnote_to_be_reexecuted": false,
    "execution_millis": 13,
    "execution_start": 1640255875009,
    "source_hash": "ac984272",
    "deepnote_cell_type": "code"
   },
   "source": "X = np.concatenate((data_oligo[np.random.randint(data_oligo.shape[0], size = 350), :], data_PFF[np.random.randint(data_PFF.shape[0], size=350),:],mix_50_50[np.random.randint(mix_50_50.shape[0], size=350),:]), axis = 0)\ny = np.concatenate((y_oligo[np.random.randint(y_oligo.shape[0], size = 350), :], y_PFF[np.random.randint(y_PFF.shape[0], size=350),:],y_50_50[np.random.randint(y_50_50.shape[0], size=350),:]), axis = 0)\n\nX_train, _, y_train, _ = train_test_split( X, y, random_state=42)",
   "outputs": [],
   "execution_count": null
  },
  {
   "cell_type": "code",
   "metadata": {
    "cell_id": "00009-7f3de88e-2c74-488e-9461-d08aea790f74",
    "deepnote_output_heights": [
     78.796875,
     597.1875
    ],
    "deepnote_to_be_reexecuted": false,
    "execution_millis": 3210,
    "execution_start": 1640255875059,
    "source_hash": "3cfc2867",
    "deepnote_cell_type": "code"
   },
   "source": "# Training the neural network\nmodel = MLPRegressor(solver='adam', activation='logistic', alpha=1e-5, hidden_layer_sizes=(10,10,10,10), random_state=1)\nmodel.fit(X_train, y_train.squeeze())\n\nmses, maes, mxs = calculate_predictions_scores(model, x_test, y_test)\nprint(f\"Mean squared error: {mses.mean():.4f}\\nMean absolute error: {maes.mean():.4f}\\nMax Error: {mxs.mean():.4f}\")",
   "outputs": [
    {
     "name": "stdout",
     "text": "Mean squared error: 0.0554\nMean absolute error: 0.2063\nMax Error: 0.5042\n",
     "output_type": "stream",
     "data": {}
    }
   ],
   "execution_count": null
  },
  {
   "cell_type": "markdown",
   "source": "As we can see, both mean squared error and mean absolute error decrease.",
   "metadata": {
    "cell_id": "00010-804655c1-7abd-487d-9b8b-fba6721c9dc2",
    "deepnote_cell_type": "markdown"
   }
  },
  {
   "cell_type": "markdown",
   "source": "Now we train on percentages 25-75 and 75-25 and repeat the testing on the 40-60 / 60-40 dataset.",
   "metadata": {
    "cell_id": "00011-701d6d3b-c796-446b-9ae2-289e8414cc76",
    "tags": [],
    "deepnote_cell_type": "markdown"
   }
  },
  {
   "cell_type": "code",
   "metadata": {
    "cell_id": "00011-f29d0e15-6c39-4ff6-a3ce-bc92a6f62142",
    "deepnote_to_be_reexecuted": false,
    "execution_millis": 72,
    "execution_start": 1640255878304,
    "source_hash": "3b605cef",
    "tags": [],
    "deepnote_cell_type": "code"
   },
   "source": "X = np.concatenate((data_oligo[np.random.randint(data_oligo.shape[0], size = 350), :], data_PFF[np.random.randint(data_PFF.shape[0], size=350),:],mix_50_50[np.random.randint(mix_50_50.shape[0], size=350),:], mix_25_75[np.random.randint(mix_25_75.shape[0], size=350),:], mix_75_25[np.random.randint(mix_75_25.shape[0], size=350),:]), axis = 0)\ny = np.concatenate((y_oligo[np.random.randint(y_oligo.shape[0], size = 350), :], y_PFF[np.random.randint(y_PFF.shape[0], size=350),:],y_50_50[np.random.randint(y_50_50.shape[0], size=350),:], y_75_25[np.random.randint(y_75_25.shape[0], size=350),:], y_25_75[np.random.randint(y_25_75.shape[0], size=350),:]), axis = 0)\n# Train and test\n\nX_train, _, y_train, _ = train_test_split( X, y, random_state=42)",
   "outputs": [],
   "execution_count": null
  },
  {
   "cell_type": "code",
   "metadata": {
    "cell_id": "00012-3b84493c-312d-4b7c-a80d-fa690851e234",
    "deepnote_to_be_reexecuted": false,
    "execution_millis": 3156,
    "execution_start": 1640255878398,
    "source_hash": "b8c1ca1f",
    "tags": [],
    "deepnote_cell_type": "code"
   },
   "source": "# Training the neural network\nmodel = MLPRegressor(solver='adam', activation='logistic', alpha=1e-5, hidden_layer_sizes=(10,10,10,10), random_state=1)\nmodel.fit(X_train, y_train.squeeze())\n# Predicting the 40-60\nmses, maes, mxs = calculate_predictions_scores(model, x_test, y_test)\nprint(f\"Mean squared error: {mses.mean():.4f}\\nMean absolute error: {maes.mean():.4f}\\nMax Error: {mxs.mean():.4f}\")",
   "outputs": [
    {
     "name": "stdout",
     "text": "Mean squared error: 0.0353\nMean absolute error: 0.1442\nMax Error: 0.4519\n",
     "output_type": "stream",
     "data": {}
    }
   ],
   "execution_count": null
  },
  {
   "cell_type": "markdown",
   "source": "#### Perform parameter tuning\nThe data regarding the 5 different mixes (0-100, 25-75, 50-50, 75-25, 100-0) is combined.\nThen, this data is split, 80% will be used for training and 20% for testing.",
   "metadata": {
    "cell_id": "00011-a024e342-9a5a-4139-bfcc-6b83b98fe251",
    "deepnote_cell_type": "markdown"
   }
  },
  {
   "cell_type": "code",
   "metadata": {
    "cell_id": "00012-6f746c83-3751-4a74-ab05-7a9223c73b66",
    "deepnote_output_heights": [
     192
    ],
    "deepnote_to_be_reexecuted": false,
    "execution_millis": 34,
    "execution_start": 1640255881309,
    "source_hash": "f78fbb76",
    "tags": [],
    "deepnote_cell_type": "code"
   },
   "source": "#Build X and y by concatenating the different dataset (after sampling the same number of datapoints for each dataset) cv 1 fold\nnp.random.seed()\nX = np.concatenate((data_oligo, data_PFF[np.random.randint(data_PFF.shape[0], size=540),:],mix_50_50[np.random.randint(mix_50_50.shape[0], size=540),:], mix_75_25[np.random.randint(mix_75_25.shape[0], size=540),:], mix_25_75[np.random.randint(mix_25_75.shape[0], size=540),:], mix_60_40[np.random.randint(mix_60_40.shape[0], size = 350), :], mix_40_60[np.random.randint(mix_40_60.shape[0], size = 350), :]), axis = 0)\ny = np.concatenate((y_oligo, y_PFF[np.random.randint(y_PFF.shape[0], size=540),:],y_50_50[np.random.randint(y_50_50.shape[0], size=540),:], y_75_25[np.random.randint(y_75_25.shape[0], size=540),:], y_25_75[np.random.randint(y_25_75.shape[0], size=540),:], y_60_40[np.random.randint(y_60_40.shape[0], size = 350), :], y_40_60[np.random.randint(y_40_60.shape[0], size = 350), :]), axis = 0)\n# 80-20 Train test split \nX_train, X_test, y_train, y_test = train_test_split(X, y, test_size=0.2, random_state=42)",
   "outputs": [],
   "execution_count": null
  },
  {
   "cell_type": "markdown",
   "source": "The model is trained and tested to determine the values of height, depth and alpha which yield the best result (can require some minutes). ",
   "metadata": {
    "cell_id": "00013-7870e9cd-a7b8-4437-83a8-4c6a9933e978",
    "tags": [],
    "deepnote_cell_type": "markdown"
   }
  },
  {
   "cell_type": "code",
   "metadata": {
    "cell_id": "00014-f541f49a-d3b5-4b51-81cf-4daee7cae020",
    "deepnote_output_heights": [
     40
    ],
    "deepnote_to_be_reexecuted": false,
    "execution_millis": 36764474,
    "execution_start": 1640255881344,
    "source_hash": "53c2edc9",
    "tags": [],
    "deepnote_cell_type": "code"
   },
   "source": "# Training the neural network with parameter tuning, minimizing mean absolute error\ndepth = [2*i for i in range(1,21)] #range of depth, can be changed  \nheight = [2*i for i in range(1,21)] #range of heights, can be changed\nalphas = [1e-3, 1e-4, 1e-5] #values of alphas, can be changed\ntrack_mae = []\nbest_mae = []\ntrack_mse = []\nbest_mse = []\nfor d in tqdm(depth):\n    for h in tqdm(height):\n        layers = tuple([h for i in range(d)])\n        for a in alphas:\n            model = MLPRegressor(solver='adam', activation='logistic', alpha=a, hidden_layer_sizes=layers, max_iter=500)\n            mae_scores = - cross_val_score(model, X_train, y_train.squeeze(), cv=5, scoring = \"neg_mean_absolute_error\")\n            track_mae.append([mae_scores.mean(), layers, a])\n            if (len(track_mae) == 1) or (len(track_mae)>1 and track_mae[-1][0] < best_mae[0]):\n                best_mae = track_mae[-1]\n            mse_scores = - cross_val_score(model, X_train, y_train.squeeze(), cv=5, scoring = \"neg_mean_squared_error\")\n            track_mse.append([mse_scores.mean(), layers, a])\n            if (len(track_mse) == 1) or (len(track_mse)>1 and track_mse[-1][0] < best_mse[0]):\n                best_mse = track_mse[-1]\n\nprint(end = '\\n')\n\n            ",
   "outputs": [
    {
     "name": "stderr",
     "text": "  0%|          | 0/20 [00:00<?, ?it/s]\n  0%|          | 0/20 [00:00<?, ?it/s]\u001b[A\n  5%|▌         | 1/20 [00:39<12:33, 39.68s/it]\u001b[A\n 10%|█         | 2/20 [01:09<10:06, 33.72s/it]\u001b[A\n 15%|█▌        | 3/20 [01:36<08:46, 30.94s/it]\u001b[A\n 20%|██        | 4/20 [02:06<08:06, 30.42s/it]\u001b[A\n 25%|██▌       | 5/20 [02:58<09:31, 38.09s/it]\u001b[A\n 30%|███       | 6/20 [03:48<09:52, 42.29s/it]\u001b[A\n 35%|███▌      | 7/20 [04:40<09:51, 45.47s/it]\u001b[A\n 40%|████      | 8/20 [05:32<09:29, 47.46s/it]\u001b[A\n 45%|████▌     | 9/20 [06:39<09:48, 53.47s/it]\u001b[A\n 50%|█████     | 10/20 [07:45<09:36, 57.63s/it]\u001b[A\n 55%|█████▌    | 11/20 [09:44<11:25, 76.13s/it]\u001b[A\n 60%|██████    | 12/20 [11:44<11:55, 89.49s/it]\u001b[A\n 65%|██████▌   | 13/20 [13:06<10:10, 87.25s/it]\u001b[A\n 70%|███████   | 14/20 [14:32<08:41, 86.86s/it]\u001b[A\n 75%|███████▌  | 15/20 [15:43<06:50, 82.17s/it]\u001b[A\n 80%|████████  | 16/20 [16:56<05:17, 79.43s/it]\u001b[A\n 85%|████████▌ | 17/20 [19:13<04:49, 96.58s/it]\u001b[A\n 90%|█████████ | 18/20 [20:31<03:02, 91.12s/it]\u001b[A\n 95%|█████████▌| 19/20 [22:21<01:36, 96.79s/it]\u001b[A\n100%|██████████| 20/20 [25:38<00:00, 76.91s/it] \n  5%|▌         | 1/20 [25:38<8:07:05, 1538.17s/it]\n  0%|          | 0/20 [00:00<?, ?it/s]\u001b[A\n  5%|▌         | 1/20 [00:38<12:13, 38.58s/it]\u001b[A\n 10%|█         | 2/20 [01:22<12:25, 41.44s/it]\u001b[A\n 15%|█▌        | 3/20 [02:40<16:34, 58.50s/it]\u001b[A\n 20%|██        | 4/20 [04:23<20:13, 75.83s/it]\u001b[A\n 25%|██▌       | 5/20 [07:08<27:01, 108.09s/it]\u001b[A\n 30%|███       | 6/20 [09:48<29:20, 125.72s/it]\u001b[A\n 35%|███▌      | 7/20 [12:22<29:14, 134.93s/it]\u001b[A\n 40%|████      | 8/20 [15:35<30:40, 153.38s/it]\u001b[A\n 45%|████▌     | 9/20 [18:29<29:18, 159.82s/it]\u001b[A\n 50%|█████     | 10/20 [21:28<27:38, 165.86s/it]\u001b[A\n 55%|█████▌    | 11/20 [24:42<26:09, 174.40s/it]\u001b[A\n 60%|██████    | 12/20 [28:21<25:04, 188.01s/it]\u001b[A\n 65%|██████▌   | 13/20 [30:28<19:45, 169.40s/it]\u001b[A\n 70%|███████   | 14/20 [32:30<15:31, 155.24s/it]\u001b[A\n 75%|███████▌  | 15/20 [34:42<12:20, 148.12s/it]\u001b[A\n 80%|████████  | 16/20 [36:38<09:13, 138.39s/it]\u001b[A\n 85%|████████▌ | 17/20 [38:42<06:42, 134.10s/it]\u001b[A\n 90%|█████████ | 18/20 [41:00<04:30, 135.44s/it]\u001b[A\n 95%|█████████▌| 19/20 [43:14<02:14, 134.86s/it]\u001b[A\n100%|██████████| 20/20 [45:24<00:00, 136.23s/it]\n 10%|█         | 2/20 [1:11:02<11:10:49, 2236.06s/it]\n  0%|          | 0/20 [00:00<?, ?it/s]\u001b[A\n  5%|▌         | 1/20 [00:18<06:00, 18.98s/it]\u001b[A\n 10%|█         | 2/20 [00:33<04:56, 16.49s/it]\u001b[A\n 15%|█▌        | 3/20 [00:47<04:15, 15.03s/it]\u001b[A\n 20%|██        | 4/20 [01:00<03:48, 14.30s/it]\u001b[A\n 25%|██▌       | 5/20 [01:19<03:58, 15.93s/it]\u001b[A\n 30%|███       | 6/20 [01:44<04:30, 19.30s/it]\u001b[A\n 35%|███▌      | 7/20 [02:09<04:31, 20.92s/it]\u001b[A\n 40%|████      | 8/20 [02:33<04:22, 21.88s/it]\u001b[A\n 45%|████▌     | 9/20 [03:23<05:37, 30.69s/it]\u001b[A\n 50%|█████     | 10/20 [04:00<05:28, 32.89s/it]\u001b[A\n 55%|█████▌    | 11/20 [05:17<06:57, 46.38s/it]\u001b[A\n 60%|██████    | 12/20 [06:58<08:23, 62.92s/it]\u001b[A\n 65%|██████▌   | 13/20 [08:51<09:06, 78.10s/it]\u001b[A\n 70%|███████   | 14/20 [11:22<10:00, 100.05s/it]\u001b[A\n 75%|███████▌  | 15/20 [14:14<10:08, 121.62s/it]\u001b[A\n 80%|████████  | 16/20 [18:06<10:20, 155.08s/it]\u001b[A\n 85%|████████▌ | 17/20 [21:39<08:36, 172.31s/it]\u001b[A\n 90%|█████████ | 18/20 [27:32<07:33, 226.83s/it]\u001b[A\n 95%|█████████▌| 19/20 [33:44<04:30, 270.22s/it]\u001b[A\n100%|██████████| 20/20 [39:28<00:00, 118.43s/it]\n 15%|█▌        | 3/20 [1:50:31<10:50:41, 2296.57s/it]\n  0%|          | 0/20 [00:00<?, ?it/s]\u001b[A\n  5%|▌         | 1/20 [00:30<09:35, 30.30s/it]\u001b[A\n 10%|█         | 2/20 [01:03<09:37, 32.09s/it]\u001b[A\n 15%|█▌        | 3/20 [01:32<08:41, 30.70s/it]\u001b[A\n 20%|██        | 4/20 [02:04<08:17, 31.10s/it]\u001b[A\n 25%|██▌       | 5/20 [02:52<09:19, 37.30s/it]\u001b[A\n 30%|███       | 6/20 [03:38<09:24, 40.30s/it]\u001b[A\n 35%|███▌      | 7/20 [04:22<08:58, 41.40s/it]\u001b[A\n 40%|████      | 8/20 [05:07<08:32, 42.70s/it]\u001b[A\n 45%|████▌     | 9/20 [05:52<07:54, 43.17s/it]\u001b[A\n 50%|█████     | 10/20 [06:39<07:25, 44.56s/it]\u001b[A\n 55%|█████▌    | 11/20 [07:31<07:00, 46.72s/it]\u001b[A\n 60%|██████    | 12/20 [08:28<06:39, 49.94s/it]\u001b[A\n 65%|██████▌   | 13/20 [09:31<06:16, 53.85s/it]\u001b[A\n 70%|███████   | 14/20 [10:39<05:48, 58.11s/it]\u001b[A\n 75%|███████▌  | 15/20 [11:42<04:57, 59.49s/it]\u001b[A\n 80%|████████  | 16/20 [13:03<04:24, 66.02s/it]\u001b[A\n 85%|████████▌ | 17/20 [14:12<03:20, 66.88s/it]\u001b[A\n 90%|█████████ | 18/20 [15:26<02:18, 69.04s/it]\u001b[A\n 95%|█████████▌| 19/20 [16:43<01:11, 71.33s/it]\u001b[A\n100%|██████████| 20/20 [18:03<00:00, 54.20s/it]\n 20%|██        | 4/20 [2:08:35<8:04:45, 1817.85s/it] \n  0%|          | 0/20 [00:00<?, ?it/s]\u001b[A\n  5%|▌         | 1/20 [00:54<17:13, 54.40s/it]\u001b[A\n 10%|█         | 2/20 [01:36<14:14, 47.45s/it]\u001b[A\n 15%|█▌        | 3/20 [02:06<11:09, 39.36s/it]\u001b[A\n 20%|██        | 4/20 [02:38<09:39, 36.23s/it]\u001b[A\n 25%|██▌       | 5/20 [03:30<10:29, 41.94s/it]\u001b[A\n 30%|███       | 6/20 [04:22<10:38, 45.57s/it]\u001b[A\n 35%|███▌      | 7/20 [05:22<10:53, 50.26s/it]\u001b[A\n 40%|████      | 8/20 [06:18<10:24, 52.01s/it]\u001b[A\n 45%|████▌     | 9/20 [07:15<09:50, 53.68s/it]\u001b[A\n 50%|█████     | 10/20 [08:14<09:13, 55.32s/it]\u001b[A\n 55%|█████▌    | 11/20 [09:18<08:40, 57.81s/it]\u001b[A\n 60%|██████    | 12/20 [10:23<07:59, 59.91s/it]\u001b[A\n 65%|██████▌   | 13/20 [11:33<07:22, 63.25s/it]\u001b[A\n 70%|███████   | 14/20 [12:48<06:40, 66.81s/it]\u001b[A\n 75%|███████▌  | 15/20 [14:28<06:23, 76.76s/it]\u001b[A\n 80%|████████  | 16/20 [16:01<05:25, 81.47s/it]\u001b[A\n 85%|████████▌ | 17/20 [17:29<04:10, 83.55s/it]\u001b[A\n 90%|█████████ | 18/20 [19:21<03:03, 91.94s/it]\u001b[A\n 95%|█████████▌| 19/20 [21:20<01:40, 100.13s/it]\u001b[A\n100%|██████████| 20/20 [22:54<00:00, 68.72s/it]\n 25%|██▌       | 5/20 [2:31:29<6:54:29, 1657.95s/it]\n  0%|          | 0/20 [00:00<?, ?it/s]\u001b[A\n  5%|▌         | 1/20 [00:56<17:56, 56.64s/it]\u001b[A\n 10%|█         | 2/20 [01:35<13:49, 46.08s/it]\u001b[A\n 15%|█▌        | 3/20 [02:12<11:53, 41.95s/it]\u001b[A\n 20%|██        | 4/20 [02:47<10:31, 39.44s/it]\u001b[A\n 25%|██▌       | 5/20 [03:55<12:23, 49.54s/it]\u001b[A\n 30%|███       | 6/20 [05:01<12:53, 55.28s/it]\u001b[A\n 35%|███▌      | 7/20 [06:08<12:45, 58.91s/it]\u001b[A\n 40%|████      | 8/20 [07:19<12:35, 62.95s/it]\u001b[A\n 45%|████▌     | 9/20 [08:25<11:42, 63.84s/it]\u001b[A\n 50%|█████     | 10/20 [09:33<10:51, 65.12s/it]\u001b[A\n 55%|█████▌    | 11/20 [10:51<10:20, 68.90s/it]\u001b[A\n 60%|██████    | 12/20 [12:08<09:32, 71.51s/it]\u001b[A\n 65%|██████▌   | 13/20 [13:32<08:47, 75.35s/it]\u001b[A\n 70%|███████   | 14/20 [15:02<07:58, 79.68s/it]\u001b[A\n 75%|███████▌  | 15/20 [16:50<07:20, 88.10s/it]\u001b[A\n 80%|████████  | 16/20 [18:28<06:04, 91.16s/it]\u001b[A\n 85%|████████▌ | 17/20 [20:08<04:41, 93.87s/it]\u001b[A\n 90%|█████████ | 18/20 [21:56<03:16, 98.26s/it]\u001b[A\n 95%|█████████▌| 19/20 [24:04<01:47, 107.15s/it]\u001b[A\n100%|██████████| 20/20 [25:52<00:00, 77.62s/it] \n 30%|███       | 6/20 [2:57:22<6:18:28, 1622.06s/it]\n  0%|          | 0/20 [00:00<?, ?it/s]\u001b[A/shared-libs/python3.7/py/lib/python3.7/site-packages/sklearn/neural_network/_multilayer_perceptron.py:699: UserWarning: Training interrupted by user.\n  warnings.warn(\"Training interrupted by user.\")\n\n  5%|▌         | 1/20 [01:25<27:11, 85.84s/it]\u001b[A\n 10%|█         | 2/20 [02:21<20:20, 67.82s/it]\u001b[A\n 15%|█▌        | 3/20 [03:00<15:32, 54.87s/it]\u001b[A\n 20%|██        | 4/20 [03:45<13:35, 50.98s/it]\u001b[A\n 25%|██▌       | 5/20 [05:01<14:58, 59.90s/it]\u001b[A\n 30%|███       | 6/20 [06:32<16:26, 70.44s/it]\u001b[A\n 35%|███▌      | 7/20 [08:15<17:34, 81.11s/it]\u001b[A\n 40%|████      | 8/20 [10:20<19:03, 95.25s/it]\u001b[A\n 45%|████▌     | 9/20 [11:54<17:20, 94.63s/it]\u001b[A\n 50%|█████     | 10/20 [13:03<14:29, 86.97s/it]\u001b[A\n 55%|█████▌    | 11/20 [13:50<11:10, 74.55s/it]\u001b[A\n 60%|██████    | 12/20 [14:38<08:53, 66.69s/it]\u001b[A\n 65%|██████▌   | 13/20 [15:40<07:36, 65.24s/it]\u001b[A\n 70%|███████   | 14/20 [16:36<06:13, 62.28s/it]\u001b[A\n 75%|███████▌  | 15/20 [17:35<05:06, 61.38s/it]\u001b[A\n 80%|████████  | 16/20 [18:40<04:09, 62.31s/it]\u001b[A\n 85%|████████▌ | 17/20 [19:43<03:07, 62.66s/it]\u001b[A\n 90%|█████████ | 18/20 [20:50<02:07, 63.84s/it]\u001b[A\n 95%|█████████▌| 19/20 [22:02<01:06, 66.30s/it]\u001b[A\n100%|██████████| 20/20 [23:19<00:00, 69.96s/it]\n 35%|███▌      | 7/20 [3:20:41<5:35:39, 1549.18s/it]\n  0%|          | 0/20 [00:00<?, ?it/s]\u001b[A\n  5%|▌         | 1/20 [00:45<14:15, 45.00s/it]\u001b[A\n 10%|█         | 2/20 [01:14<10:46, 35.92s/it]\u001b[A\n 15%|█▌        | 3/20 [01:43<09:15, 32.70s/it]\u001b[A\n 20%|██        | 4/20 [02:06<07:44, 29.06s/it]\u001b[A\n 25%|██▌       | 5/20 [02:53<08:52, 35.48s/it]\u001b[A\n 30%|███       | 6/20 [03:37<08:55, 38.28s/it]\u001b[A\n 35%|███▌      | 7/20 [04:24<08:52, 40.97s/it]\u001b[A\n 40%|████      | 8/20 [05:06<08:18, 41.56s/it]\u001b[A\n 45%|████▌     | 9/20 [05:55<08:01, 43.77s/it]\u001b[A\n 50%|█████     | 10/20 [06:44<07:34, 45.46s/it]\u001b[A\n 55%|█████▌    | 11/20 [07:37<07:10, 47.81s/it]\u001b[A\n 60%|██████    | 12/20 [08:33<06:41, 50.15s/it]\u001b[A\n 65%|██████▌   | 13/20 [09:33<06:13, 53.31s/it]\u001b[A\n 70%|███████   | 14/20 [10:36<05:36, 56.12s/it]\u001b[A\n 75%|███████▌  | 15/20 [11:51<05:09, 61.81s/it]\u001b[A\n 80%|████████  | 16/20 [12:58<04:13, 63.46s/it]\u001b[A\n 85%|████████▌ | 17/20 [14:11<03:18, 66.08s/it]\u001b[A\n 90%|█████████ | 18/20 [15:26<02:17, 68.95s/it]\u001b[A\n 95%|█████████▌| 19/20 [16:46<01:12, 72.26s/it]\u001b[A\n100%|██████████| 20/20 [18:32<00:00, 55.61s/it]\n 40%|████      | 8/20 [3:39:13<4:42:00, 1410.08s/it]\n  0%|          | 0/20 [00:00<?, ?it/s]\u001b[A\n  5%|▌         | 1/20 [01:01<19:34, 61.81s/it]\u001b[A\n 10%|█         | 2/20 [01:39<14:17, 47.65s/it]\u001b[A\n 15%|█▌        | 3/20 [02:21<12:44, 44.95s/it]\u001b[A\n 20%|██        | 4/20 [02:58<11:08, 41.76s/it]\u001b[A\n 25%|██▌       | 5/20 [03:46<11:04, 44.31s/it]\u001b[A\n 30%|███       | 6/20 [04:37<10:49, 46.38s/it]\u001b[A\n 35%|███▌      | 7/20 [05:24<10:06, 46.63s/it]\u001b[A\n 40%|████      | 8/20 [06:10<09:17, 46.45s/it]\u001b[A\n 45%|████▌     | 9/20 [07:00<08:41, 47.41s/it]\u001b[A\n 50%|█████     | 10/20 [07:55<08:17, 49.75s/it]\u001b[A\n 55%|█████▌    | 11/20 [08:51<07:46, 51.79s/it]\u001b[A\n 60%|██████    | 12/20 [09:51<07:13, 54.25s/it]\u001b[A\n 65%|██████▌   | 13/20 [10:57<06:45, 57.91s/it]\u001b[A\n 70%|███████   | 14/20 [12:04<06:04, 60.68s/it]\u001b[A\n 75%|███████▌  | 15/20 [13:16<05:19, 63.89s/it]\u001b[A\n 80%|████████  | 16/20 [14:32<04:30, 67.62s/it]\u001b[A\n 85%|████████▌ | 17/20 [16:34<04:11, 83.90s/it]\u001b[A\n 90%|█████████ | 18/20 [18:24<03:03, 91.96s/it]\u001b[A\n 95%|█████████▌| 19/20 [19:53<01:31, 91.10s/it]\u001b[A\n100%|██████████| 20/20 [21:29<00:00, 64.47s/it]\n 45%|████▌     | 9/20 [4:00:42<4:11:35, 1372.35s/it]\n  0%|          | 0/20 [00:00<?, ?it/s]\u001b[A\n  5%|▌         | 1/20 [00:54<17:17, 54.60s/it]\u001b[A\n 10%|█         | 2/20 [01:31<13:19, 44.43s/it]\u001b[A\n 15%|█▌        | 3/20 [02:08<11:37, 41.04s/it]\u001b[A\n 20%|██        | 4/20 [02:41<10:03, 37.69s/it]\u001b[A\n 25%|██▌       | 5/20 [03:35<10:55, 43.72s/it]\u001b[A\n 30%|███       | 6/20 [04:29<10:57, 46.98s/it]\u001b[A\n 35%|███▌      | 7/20 [05:22<10:36, 48.95s/it]\u001b[A\n 40%|████      | 8/20 [06:13<09:55, 49.59s/it]\u001b[A\n 45%|████▌     | 9/20 [07:10<09:32, 52.08s/it]\u001b[A\n 50%|█████     | 10/20 [08:10<09:05, 54.55s/it]\u001b[A\n 55%|█████▌    | 11/20 [09:16<08:42, 58.07s/it]\u001b[A\n 60%|██████    | 12/20 [10:42<08:52, 66.60s/it]\u001b[A\n 65%|██████▌   | 13/20 [11:53<07:53, 67.68s/it]\u001b[A\n 70%|███████   | 14/20 [13:09<07:02, 70.34s/it]\u001b[A\n 75%|███████▌  | 15/20 [14:32<06:11, 74.24s/it]\u001b[A\n 80%|████████  | 16/20 [15:56<05:07, 76.97s/it]\u001b[A\n 85%|████████▌ | 17/20 [17:26<04:03, 81.09s/it]\u001b[A\n 90%|█████████ | 18/20 [19:01<02:50, 85.27s/it]\u001b[A\n 95%|█████████▌| 19/20 [20:45<01:30, 90.93s/it]\u001b[A\n100%|██████████| 20/20 [22:33<00:00, 67.67s/it]\n 50%|█████     | 10/20 [4:23:16<3:47:44, 1366.49s/it]\n  0%|          | 0/20 [00:00<?, ?it/s]\u001b[A\n  5%|▌         | 1/20 [00:57<18:07, 57.22s/it]\u001b[A\n 10%|█         | 2/20 [01:39<14:27, 48.20s/it]\u001b[A\n 15%|█▌        | 3/20 [02:21<12:54, 45.57s/it]\u001b[A\n 20%|██        | 4/20 [02:57<11:10, 41.89s/it]\u001b[A\n 25%|██▌       | 5/20 [03:59<12:15, 49.01s/it]\u001b[A\n 30%|███       | 6/20 [04:54<11:55, 51.09s/it]\u001b[A\n 35%|███▌      | 7/20 [05:51<11:27, 52.86s/it]\u001b[A\n 40%|████      | 8/20 [06:51<11:03, 55.28s/it]\u001b[A\n 45%|████▌     | 9/20 [07:54<10:36, 57.84s/it]\u001b[A\n 50%|█████     | 10/20 [09:01<10:03, 60.38s/it]\u001b[A\n 55%|█████▌    | 11/20 [10:10<09:27, 63.01s/it]\u001b[A\n 60%|██████    | 12/20 [11:23<08:49, 66.17s/it]\u001b[A\n 65%|██████▌   | 13/20 [12:47<08:20, 71.53s/it]\u001b[A\n 70%|███████   | 14/20 [14:11<07:31, 75.27s/it]\u001b[A\n 75%|███████▌  | 15/20 [15:40<06:37, 79.47s/it]\u001b[A\n 80%|████████  | 16/20 [17:28<05:52, 88.19s/it]\u001b[A\n 85%|████████▌ | 17/20 [19:11<04:38, 92.69s/it]\u001b[A\n 90%|█████████ | 18/20 [20:59<03:14, 97.05s/it]\u001b[A\n 95%|█████████▌| 19/20 [23:18<01:49, 109.66s/it]\u001b[A\n100%|██████████| 20/20 [25:15<00:00, 75.75s/it] \n 55%|█████▌    | 11/20 [4:48:31<3:31:47, 1411.95s/it]\n  0%|          | 0/20 [00:00<?, ?it/s]\u001b[A\n  5%|▌         | 1/20 [00:47<15:08, 47.82s/it]\u001b[A\n 10%|█         | 2/20 [01:36<14:28, 48.23s/it]\u001b[A\n 15%|█▌        | 3/20 [02:16<12:35, 44.44s/it]\u001b[A\n 20%|██        | 4/20 [02:54<11:09, 41.85s/it]\u001b[A\n 25%|██▌       | 5/20 [03:58<12:28, 49.93s/it]\u001b[A\n 30%|███       | 6/20 [04:58<12:26, 53.35s/it]\u001b[A\n 35%|███▌      | 7/20 [05:59<12:05, 55.78s/it]\u001b[A\n 40%|████      | 8/20 [07:12<12:17, 61.47s/it]\u001b[A\n 45%|████▌     | 9/20 [08:21<11:41, 63.73s/it]\u001b[A\n 50%|█████     | 10/20 [09:30<10:54, 65.41s/it]\u001b[A\n 55%|█████▌    | 11/20 [10:49<10:25, 69.47s/it]\u001b[A\n 60%|██████    | 12/20 [12:10<09:43, 72.92s/it]\u001b[A\n 65%|██████▌   | 13/20 [13:35<08:57, 76.81s/it]\u001b[A\n 70%|███████   | 14/20 [15:09<08:11, 81.99s/it]\u001b[A\n 75%|███████▌  | 15/20 [16:55<07:25, 89.07s/it]\u001b[A\n 80%|████████  | 16/20 [18:40<06:14, 93.75s/it]\u001b[A\n 85%|████████▌ | 17/20 [20:33<04:59, 99.77s/it]\u001b[A\n 90%|█████████ | 18/20 [22:40<03:35, 107.72s/it]\u001b[A\n 95%|█████████▌| 19/20 [24:40<01:51, 111.50s/it]\u001b[A\n100%|██████████| 20/20 [26:39<00:00, 79.98s/it] \n 60%|██████    | 12/20 [5:15:10<3:15:52, 1469.05s/it]\n  0%|          | 0/20 [00:00<?, ?it/s]\u001b[A\n  5%|▌         | 1/20 [00:50<16:04, 50.77s/it]\u001b[A\n 10%|█         | 2/20 [01:36<14:18, 47.72s/it]\u001b[A\n 15%|█▌        | 3/20 [02:17<12:42, 44.88s/it]\u001b[A\n 20%|██        | 4/20 [02:59<11:39, 43.73s/it]\u001b[A\n 25%|██▌       | 5/20 [04:00<12:29, 50.00s/it]\u001b[A\n 30%|███       | 6/20 [05:03<12:38, 54.19s/it]\u001b[A\n 35%|███▌      | 7/20 [06:08<12:30, 57.70s/it]\u001b[A\n 40%|████      | 8/20 [07:14<12:06, 60.58s/it]\u001b[A\n 45%|████▌     | 9/20 [08:34<12:10, 66.45s/it]\u001b[A\n 50%|█████     | 10/20 [09:52<11:41, 70.17s/it]\u001b[A\n 55%|█████▌    | 11/20 [11:16<11:09, 74.34s/it]\u001b[A\n 60%|██████    | 12/20 [12:40<10:17, 77.18s/it]\u001b[A\n 65%|██████▌   | 13/20 [14:10<09:28, 81.23s/it]\u001b[A\n 70%|███████   | 14/20 [15:45<08:32, 85.36s/it]\u001b[A\n 75%|███████▌  | 15/20 [17:27<07:31, 90.36s/it]\u001b[A\n 80%|████████  | 16/20 [19:13<06:19, 94.97s/it]\u001b[A\n 85%|████████▌ | 17/20 [21:12<05:06, 102.26s/it]\u001b[A\n 90%|█████████ | 18/20 [23:18<03:38, 109.39s/it]\u001b[A\n 95%|█████████▌| 19/20 [25:29<01:55, 115.93s/it]\u001b[A\n100%|██████████| 20/20 [27:41<00:00, 83.07s/it] \n 65%|██████▌   | 13/20 [5:42:52<2:58:11, 1527.35s/it]\n  0%|          | 0/20 [00:00<?, ?it/s]\u001b[A\n  5%|▌         | 1/20 [01:22<26:11, 82.70s/it]\u001b[A\n 10%|█         | 2/20 [02:19<20:16, 67.58s/it]\u001b[A\n 15%|█▌        | 3/20 [03:08<16:40, 58.88s/it]\u001b[A\n 20%|██        | 4/20 [03:48<13:44, 51.52s/it]\u001b[A\n 25%|██▌       | 5/20 [04:58<14:34, 58.27s/it]\u001b[A\n 30%|███       | 6/20 [06:09<14:34, 62.48s/it]\u001b[A\n 35%|███▌      | 7/20 [07:27<14:38, 67.56s/it]\u001b[A\n 40%|████      | 8/20 [08:39<13:49, 69.16s/it]\u001b[A\n 45%|████▌     | 9/20 [10:03<13:30, 73.67s/it]\u001b[A\n 50%|█████     | 10/20 [11:46<13:48, 82.85s/it]\u001b[A\n 55%|█████▌    | 11/20 [13:29<13:19, 88.87s/it]\u001b[A\n 60%|██████    | 12/20 [15:16<12:36, 94.51s/it]\u001b[A\n 65%|██████▌   | 13/20 [16:54<11:08, 95.52s/it]\u001b[A\n 70%|███████   | 14/20 [18:40<09:52, 98.77s/it]\u001b[A\n 75%|███████▌  | 15/20 [20:31<08:31, 102.23s/it]\u001b[A\n 80%|████████  | 16/20 [22:27<07:06, 106.59s/it]\u001b[A\n 85%|████████▌ | 17/20 [24:35<05:38, 112.80s/it]\u001b[A\n 90%|█████████ | 18/20 [26:46<03:56, 118.32s/it]\u001b[A\n 95%|█████████▌| 19/20 [29:11<02:06, 126.45s/it]\u001b[A\n100%|██████████| 20/20 [31:40<00:00, 95.03s/it] \n 70%|███████   | 14/20 [6:14:33<2:44:00, 1640.12s/it]\n  0%|          | 0/20 [00:00<?, ?it/s]\u001b[A\n  5%|▌         | 1/20 [01:04<20:20, 64.24s/it]\u001b[A\n 10%|█         | 2/20 [02:16<20:42, 69.04s/it]\u001b[A\n 15%|█▌        | 3/20 [03:00<16:18, 57.58s/it]\u001b[A\n 20%|██        | 4/20 [03:50<14:33, 54.60s/it]\u001b[A\n 25%|██▌       | 5/20 [05:03<15:15, 61.03s/it]\u001b[A\n 30%|███       | 6/20 [06:15<15:07, 64.83s/it]\u001b[A\n 35%|███▌      | 7/20 [07:25<14:27, 66.70s/it]\u001b[A\n 40%|████      | 8/20 [08:42<14:00, 70.02s/it]\u001b[A\n 45%|████▌     | 9/20 [10:22<14:31, 79.25s/it]\u001b[A\n 50%|█████     | 10/20 [12:06<14:30, 87.03s/it]\u001b[A\n 55%|█████▌    | 11/20 [13:36<13:10, 87.78s/it]\u001b[A\n 60%|██████    | 12/20 [15:14<12:07, 90.92s/it]\u001b[A\n 65%|██████▌   | 13/20 [16:59<11:05, 95.03s/it]\u001b[A\n 70%|███████   | 14/20 [18:49<09:58, 99.81s/it]\u001b[A\n 75%|███████▌  | 15/20 [20:47<08:46, 105.30s/it]\u001b[A\n 80%|████████  | 16/20 [22:54<07:26, 111.70s/it]\u001b[A\n 85%|████████▌ | 17/20 [25:28<06:13, 124.43s/it]\u001b[A\n 90%|█████████ | 18/20 [27:55<04:22, 131.09s/it]\u001b[A\n 95%|█████████▌| 19/20 [30:32<02:18, 138.98s/it]\u001b[A\n100%|██████████| 20/20 [33:11<00:00, 99.58s/it] \n 75%|███████▌  | 15/20 [6:47:44<2:25:30, 1746.07s/it]\n  0%|          | 0/20 [00:00<?, ?it/s]\u001b[A\n  5%|▌         | 1/20 [01:33<29:30, 93.16s/it]\u001b[A\n 10%|█         | 2/20 [02:43<23:52, 79.60s/it]\u001b[A\n 15%|█▌        | 3/20 [03:30<18:18, 64.63s/it]\u001b[A\n 20%|██        | 4/20 [04:19<15:37, 58.60s/it]\u001b[A\n 25%|██▌       | 5/20 [05:37<16:24, 65.66s/it]\u001b[A\n 30%|███       | 6/20 [06:57<16:29, 70.66s/it]\u001b[A\n 35%|███▌      | 7/20 [08:18<16:01, 73.93s/it]\u001b[A\n 40%|████      | 8/20 [09:46<15:40, 78.41s/it]\u001b[A\n 45%|████▌     | 9/20 [11:17<15:04, 82.26s/it]\u001b[A\n 50%|█████     | 10/20 [12:51<14:20, 86.04s/it]\u001b[A\n 55%|█████▌    | 11/20 [14:31<13:32, 90.28s/it]\u001b[A\n 60%|██████    | 12/20 [16:18<12:41, 95.14s/it]\u001b[A\n 65%|██████▌   | 13/20 [18:12<11:46, 100.99s/it]\u001b[A\n 70%|███████   | 14/20 [20:16<10:47, 107.91s/it]\u001b[A\n 75%|███████▌  | 15/20 [22:29<09:37, 115.49s/it]\u001b[A\n 80%|████████  | 16/20 [24:42<08:03, 120.90s/it]\u001b[A\n 85%|████████▌ | 17/20 [27:07<06:24, 128.01s/it]\u001b[A\n 90%|█████████ | 18/20 [29:43<04:33, 136.54s/it]\u001b[A\n 95%|█████████▌| 19/20 [32:28<02:25, 145.04s/it]\u001b[A\n100%|██████████| 20/20 [36:16<00:00, 108.81s/it]\n 80%|████████  | 16/20 [7:24:00<2:05:02, 1875.53s/it]\n  0%|          | 0/20 [00:00<?, ?it/s]\u001b[A\n  5%|▌         | 1/20 [01:32<29:20, 92.65s/it]\u001b[A\n 10%|█         | 2/20 [02:43<23:54, 79.71s/it]\u001b[A",
     "output_type": "stream",
     "data": {}
    },
    {
     "name": "stderr",
     "text": "\n 15%|█▌        | 3/20 [03:44<20:08, 71.12s/it]\u001b[A\n 20%|██        | 4/20 [04:40<17:26, 65.43s/it]\u001b[A\n 25%|██▌       | 5/20 [06:00<17:36, 70.43s/it]\u001b[A\n 30%|███       | 6/20 [07:33<18:12, 78.06s/it]\u001b[A\n 35%|███▌      | 7/20 [09:01<17:37, 81.31s/it]\u001b[A\n 40%|████      | 8/20 [10:35<17:06, 85.52s/it]\u001b[A\n 45%|████▌     | 9/20 [12:12<16:18, 88.99s/it]\u001b[A\n 50%|█████     | 10/20 [13:52<15:24, 92.47s/it]\u001b[A\n 55%|█████▌    | 11/20 [15:41<14:36, 97.41s/it]\u001b[A\n 60%|██████    | 12/20 [17:35<13:39, 102.46s/it]\u001b[A\n 65%|██████▌   | 13/20 [19:43<12:51, 110.22s/it]\u001b[A\n 70%|███████   | 14/20 [21:50<11:32, 115.36s/it]\u001b[A\n 75%|███████▌  | 15/20 [24:11<10:15, 123.12s/it]\u001b[A\n 80%|████████  | 16/20 [26:39<08:42, 130.71s/it]\u001b[A\n 85%|████████▌ | 17/20 [29:18<06:57, 139.22s/it]\u001b[A\n 90%|█████████ | 18/20 [32:18<05:02, 151.40s/it]\u001b[A\n 95%|█████████▌| 19/20 [35:14<02:38, 158.66s/it]\u001b[A\n100%|██████████| 20/20 [38:24<00:00, 115.22s/it]\n 85%|████████▌ | 17/20 [8:02:25<1:40:13, 2004.47s/it]\n  0%|          | 0/20 [00:00<?, ?it/s]\u001b[A\n  5%|▌         | 1/20 [01:21<25:53, 81.78s/it]\u001b[A\n 10%|█         | 2/20 [02:22<20:44, 69.12s/it]\u001b[A\n 15%|█▌        | 3/20 [03:38<20:32, 72.53s/it]\u001b[A\n 20%|██        | 4/20 [04:38<18:00, 67.55s/it]\u001b[A\n 25%|██▌       | 5/20 [06:21<20:04, 80.32s/it]\u001b[A\n 30%|███       | 6/20 [07:57<19:59, 85.68s/it]\u001b[A\n 35%|███▌      | 7/20 [09:34<19:22, 89.45s/it]\u001b[A\n 40%|████      | 8/20 [11:13<18:27, 92.26s/it]\u001b[A\n 45%|████▌     | 9/20 [13:11<18:23, 100.34s/it]\u001b[A\n 50%|█████     | 10/20 [15:03<17:21, 104.16s/it]\u001b[A\n 55%|█████▌    | 11/20 [16:58<16:05, 107.25s/it]\u001b[A\n 60%|██████    | 12/20 [19:24<15:52, 119.11s/it]\u001b[A\n 65%|██████▌   | 13/20 [21:58<15:08, 129.80s/it]\u001b[A\n 70%|███████   | 14/20 [24:19<13:18, 133.09s/it]\u001b[A\n 75%|███████▌  | 15/20 [26:49<11:31, 138.28s/it]\u001b[A\n 80%|████████  | 16/20 [29:20<09:28, 142.02s/it]\u001b[A\n 85%|████████▌ | 17/20 [32:12<07:32, 150.91s/it]\u001b[A\n 90%|█████████ | 18/20 [35:12<05:19, 159.86s/it]\u001b[A\n 95%|█████████▌| 19/20 [38:24<02:49, 169.52s/it]\u001b[A\n100%|██████████| 20/20 [41:40<00:00, 125.01s/it]\n 90%|█████████ | 18/20 [8:44:05<1:11:46, 2153.45s/it]\n  0%|          | 0/20 [00:00<?, ?it/s]\u001b[A\n  5%|▌         | 1/20 [01:27<27:41, 87.46s/it]\u001b[A\n 10%|█         | 2/20 [03:06<28:14, 94.12s/it]\u001b[A\n 15%|█▌        | 3/20 [04:05<22:12, 78.41s/it]\u001b[A\n 20%|██        | 4/20 [05:06<18:59, 71.23s/it]\u001b[A\n 25%|██▌       | 5/20 [06:38<19:45, 79.00s/it]\u001b[A\n 30%|███       | 6/20 [08:26<20:41, 88.66s/it]\u001b[A\n 35%|███▌      | 7/20 [10:10<20:16, 93.61s/it]\u001b[A\n 40%|████      | 8/20 [11:50<19:07, 95.64s/it]\u001b[A\n 45%|████▌     | 9/20 [13:40<18:21, 100.10s/it]\u001b[A\n 50%|█████     | 10/20 [15:35<17:27, 104.72s/it]\u001b[A\n 55%|█████▌    | 11/20 [17:38<16:35, 110.56s/it]\u001b[A\n 60%|██████    | 12/20 [19:47<15:28, 116.01s/it]\u001b[A\n 65%|██████▌   | 13/20 [22:04<14:15, 122.28s/it]\u001b[A\n 70%|███████   | 14/20 [24:27<12:52, 128.67s/it]\u001b[A\n 75%|███████▌  | 15/20 [27:02<11:23, 136.65s/it]\u001b[A\n 80%|████████  | 16/20 [29:54<09:49, 147.29s/it]\u001b[A\n 85%|████████▌ | 17/20 [32:54<07:50, 156.98s/it]\u001b[A\n 90%|█████████ | 18/20 [36:07<05:35, 167.86s/it]\u001b[A\n 95%|█████████▌| 19/20 [40:09<03:10, 190.03s/it]\u001b[A\n100%|██████████| 20/20 [43:39<00:00, 130.98s/it]\n 95%|█████████▌| 19/20 [9:27:45<38:13, 2293.47s/it]  \n  0%|          | 0/20 [00:00<?, ?it/s]\u001b[A\n  5%|▌         | 1/20 [01:34<29:51, 94.26s/it]\u001b[A\n 10%|█         | 2/20 [02:32<21:57, 73.20s/it]\u001b[A\n 15%|█▌        | 3/20 [03:43<20:27, 72.18s/it]\u001b[A\n 20%|██        | 4/20 [04:33<16:55, 63.47s/it]\u001b[A\n 25%|██▌       | 5/20 [06:28<20:30, 82.01s/it]\u001b[A\n 30%|███       | 6/20 [07:59<19:47, 84.85s/it]\u001b[A\n 35%|███▌      | 7/20 [09:41<19:39, 90.69s/it]\u001b[A\n 40%|████      | 8/20 [11:36<19:39, 98.28s/it]\u001b[A\n 45%|████▌     | 9/20 [14:02<20:46, 113.31s/it]\u001b[A\n 50%|█████     | 10/20 [16:05<19:22, 116.25s/it]\u001b[A\n 55%|█████▌    | 11/20 [18:11<17:52, 119.20s/it]\u001b[A\n 60%|██████    | 12/20 [20:34<16:52, 126.60s/it]\u001b[A\n 65%|██████▌   | 13/20 [22:51<15:08, 129.73s/it]\u001b[A\n 70%|███████   | 14/20 [25:17<13:27, 134.55s/it]\u001b[A\n 75%|███████▌  | 15/20 [28:06<12:03, 144.78s/it]\u001b[A\n 80%|████████  | 16/20 [31:12<10:29, 157.47s/it]\u001b[A\n 85%|████████▌ | 17/20 [34:17<08:16, 165.47s/it]\u001b[A\n 90%|█████████ | 18/20 [37:40<05:54, 177.04s/it]\u001b[A\n 95%|█████████▌| 19/20 [41:29<03:12, 192.59s/it]\u001b[A\n100%|██████████| 20/20 [44:59<00:00, 134.96s/it]\n100%|██████████| 20/20 [10:12:44<00:00, 1838.22s/it]\n\n",
     "output_type": "stream",
     "data": {}
    }
   ],
   "execution_count": null
  },
  {
   "cell_type": "code",
   "metadata": {
    "cell_id": "00019-b4817d4d-2c0e-43b3-a695-c5a0e6a13347",
    "deepnote_to_be_reexecuted": false,
    "source_hash": "b3a90f00",
    "execution_start": 1640292645816,
    "execution_millis": 6,
    "deepnote_cell_type": "code"
   },
   "source": "print(f\"Best Mean absolute error: {best_mae[0]:.4f}. Height: {best_mae[1][0]}. Depth: {len(best_mae[1])}. Alpha: {best_mae[2]}\")\nprint(f\"Best Mean squared error: {best_mse[0]:.4f}. Height: {best_mse[1][0]}. Depth: {len(best_mse[1])}. Alpha: {best_mse[2]}\")\n",
   "outputs": [
    {
     "name": "stdout",
     "output_type": "stream",
     "text": "Best Mean absolute error: 0.0612. Height: 36. Depth: 6. Alpha: 1e-05\nBest Mean squared error: 0.0141. Height: 36. Depth: 6. Alpha: 1e-05\n",
     "data": {}
    },
    {
     "name": "stdout",
     "text": "Best Mean absolute error: 0.0621. Height: 40. Depth: 6. Alpha: 1e-05\nBest Mean squared error: 0.0149. Height: 38. Depth: 6. Alpha: 1e-05\n",
     "output_type": "stream",
     "data": {}
    }
   ],
   "execution_count": null
  },
  {
   "cell_type": "code",
   "metadata": {
    "cell_id": "00020-93fb0058-a24a-4683-af10-5fd98f8229d5",
    "deepnote_to_be_reexecuted": false,
    "source_hash": "b623e53d",
    "execution_start": 1640292645828,
    "execution_millis": 9,
    "deepnote_cell_type": "code"
   },
   "source": "",
   "outputs": [],
   "execution_count": null
  },
  {
   "cell_type": "markdown",
   "source": "<a style='text-decoration:none;line-height:16px;display:flex;color:#5B5B62;padding:10px;justify-content:end;' href='https://deepnote.com?utm_source=created-in-deepnote-cell&projectId=d66177de-7ea1-46c8-aea6-26d701dd9bc9' target=\"_blank\">\n<img alt='Created in deepnote.com' style='display:inline;max-height:16px;margin:0px;margin-right:7.5px;' src='data:image/svg+xml;base64,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' > </img>\nCreated in <span style='font-weight:600;margin-left:4px;'>Deepnote</span></a>",
   "metadata": {
    "tags": [],
    "created_in_deepnote_cell": true,
    "deepnote_cell_type": "markdown"
   }
  }
 ],
 "nbformat": 4,
 "nbformat_minor": 2,
 "metadata": {
  "deepnote": {
   "is_reactive": false
  },
  "deepnote_execution_queue": [],
  "deepnote_notebook_id": "b131fa44-44ee-4224-902f-63565555e2e2",
  "kernelspec": {
   "display_name": "Python 3",
   "language": "python",
   "name": "python3"
  },
  "language_info": {
   "codemirror_mode": {
    "name": "ipython",
    "version": 3
   },
   "file_extension": ".py",
   "mimetype": "text/x-python",
   "name": "python",
   "nbconvert_exporter": "python",
   "pygments_lexer": "ipython3",
   "version": "3.8.8"
  }
 }
}